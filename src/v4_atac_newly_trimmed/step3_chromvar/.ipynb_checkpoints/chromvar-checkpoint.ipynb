{
 "cells": [
  {
   "cell_type": "markdown",
   "id": "862c0270",
   "metadata": {},
   "source": [
    "# Motif analysis with ChromVAR for E vs V snATAC-seq\n",
    "- https://stuartlab.org/signac/articles/mouse_brain_vignette"
   ]
  },
  {
   "cell_type": "markdown",
   "id": "e6b85247",
   "metadata": {},
   "source": [
    "## Set up correct conda environment\n"
   ]
  },
  {
   "cell_type": "code",
   "execution_count": 1,
   "id": "715a52a9",
   "metadata": {},
   "outputs": [
    {
     "data": {
      "text/html": [
       "<style>\n",
       ".list-inline {list-style: none; margin:0; padding: 0}\n",
       ".list-inline>li {display: inline-block}\n",
       ".list-inline>li:not(:last-child)::after {content: \"\\00b7\"; padding: 0 .5ex}\n",
       "</style>\n",
       "<ol class=list-inline><li>'/home/groups/tttt/xjluo/miniconda3/envs/single_cell_Seurat_v5/lib/R/library'</li><li>'/home/users/xjluo/miniconda3/envs/jupyter_env/lib/R/library'</li></ol>\n"
      ],
      "text/latex": [
       "\\begin{enumerate*}\n",
       "\\item '/home/groups/tttt/xjluo/miniconda3/envs/single\\_cell\\_Seurat\\_v5/lib/R/library'\n",
       "\\item '/home/users/xjluo/miniconda3/envs/jupyter\\_env/lib/R/library'\n",
       "\\end{enumerate*}\n"
      ],
      "text/markdown": [
       "1. '/home/groups/tttt/xjluo/miniconda3/envs/single_cell_Seurat_v5/lib/R/library'\n",
       "2. '/home/users/xjluo/miniconda3/envs/jupyter_env/lib/R/library'\n",
       "\n",
       "\n"
      ],
      "text/plain": [
       "[1] \"/home/groups/tttt/xjluo/miniconda3/envs/single_cell_Seurat_v5/lib/R/library\"\n",
       "[2] \"/home/users/xjluo/miniconda3/envs/jupyter_env/lib/R/library\"                "
      ]
     },
     "metadata": {},
     "output_type": "display_data"
    }
   ],
   "source": [
    ".libPaths('/home/groups/tttt/xjluo/miniconda3/envs/single_cell_Seurat_v5/lib/R/library')\n",
    ".libPaths()"
   ]
  },
  {
   "cell_type": "markdown",
   "id": "0da57605",
   "metadata": {},
   "source": [
    "## Load packages"
   ]
  },
  {
   "cell_type": "code",
   "execution_count": 2,
   "id": "d408a67a",
   "metadata": {},
   "outputs": [
    {
     "name": "stderr",
     "output_type": "stream",
     "text": [
      "── \u001b[1mAttaching core tidyverse packages\u001b[22m ──────────────────────── tidyverse 2.0.0 ──\n",
      "\u001b[32m✔\u001b[39m \u001b[34mdplyr    \u001b[39m 1.1.3     \u001b[32m✔\u001b[39m \u001b[34mreadr    \u001b[39m 2.1.5\n",
      "\u001b[32m✔\u001b[39m \u001b[34mforcats  \u001b[39m 1.0.0     \u001b[32m✔\u001b[39m \u001b[34mstringr  \u001b[39m 1.5.1\n",
      "\u001b[32m✔\u001b[39m \u001b[34mggplot2  \u001b[39m 3.4.4     \u001b[32m✔\u001b[39m \u001b[34mtibble   \u001b[39m 3.2.1\n",
      "\u001b[32m✔\u001b[39m \u001b[34mlubridate\u001b[39m 1.9.3     \u001b[32m✔\u001b[39m \u001b[34mtidyr    \u001b[39m 1.3.0\n",
      "\u001b[32m✔\u001b[39m \u001b[34mpurrr    \u001b[39m 1.0.2     \n",
      "── \u001b[1mConflicts\u001b[22m ────────────────────────────────────────── tidyverse_conflicts() ──\n",
      "\u001b[31m✖\u001b[39m \u001b[34mdplyr\u001b[39m::\u001b[32mfilter()\u001b[39m masks \u001b[34mstats\u001b[39m::filter()\n",
      "\u001b[31m✖\u001b[39m \u001b[34mdplyr\u001b[39m::\u001b[32mlag()\u001b[39m    masks \u001b[34mstats\u001b[39m::lag()\n",
      "\u001b[36mℹ\u001b[39m Use the conflicted package (\u001b[3m\u001b[34m<http://conflicted.r-lib.org/>\u001b[39m\u001b[23m) to force all conflicts to become errors\n",
      "Loading required package: viridisLite\n",
      "\n",
      "Loading required package: SeuratObject\n",
      "\n",
      "Loading required package: sp\n",
      "\n",
      "\n",
      "Attaching package: ‘SeuratObject’\n",
      "\n",
      "\n",
      "The following objects are masked from ‘package:base’:\n",
      "\n",
      "    intersect, t\n",
      "\n",
      "\n",
      "Registered S3 method overwritten by 'SeuratDisk':\n",
      "  method            from  \n",
      "  as.sparse.H5Group Seurat\n",
      "\n",
      "\n",
      "\n",
      "Attaching shinyBS\n",
      "\n",
      "Loading required package: ensembldb\n",
      "\n",
      "Loading required package: BiocGenerics\n",
      "\n",
      "\n",
      "Attaching package: 'BiocGenerics'\n",
      "\n",
      "\n",
      "The following object is masked from 'package:SeuratObject':\n",
      "\n",
      "    intersect\n",
      "\n",
      "\n",
      "The following objects are masked from 'package:lubridate':\n",
      "\n",
      "    intersect, setdiff, union\n",
      "\n",
      "\n",
      "The following objects are masked from 'package:dplyr':\n",
      "\n",
      "    combine, intersect, setdiff, union\n",
      "\n",
      "\n",
      "The following objects are masked from 'package:stats':\n",
      "\n",
      "    IQR, mad, sd, var, xtabs\n",
      "\n",
      "\n",
      "The following objects are masked from 'package:base':\n",
      "\n",
      "    anyDuplicated, aperm, append, as.data.frame, basename, cbind,\n",
      "    colnames, dirname, do.call, duplicated, eval, evalq, Filter, Find,\n",
      "    get, grep, grepl, intersect, is.unsorted, lapply, Map, mapply,\n",
      "    match, mget, order, paste, pmax, pmax.int, pmin, pmin.int,\n",
      "    Position, rank, rbind, Reduce, rownames, sapply, setdiff, sort,\n",
      "    table, tapply, union, unique, unsplit, which.max, which.min\n",
      "\n",
      "\n",
      "Loading required package: GenomicRanges\n",
      "\n",
      "Loading required package: stats4\n",
      "\n",
      "Loading required package: S4Vectors\n",
      "\n",
      "\n",
      "Attaching package: 'S4Vectors'\n",
      "\n",
      "\n",
      "The following objects are masked from 'package:lubridate':\n",
      "\n",
      "    second, second<-\n",
      "\n",
      "\n",
      "The following objects are masked from 'package:dplyr':\n",
      "\n",
      "    first, rename\n",
      "\n",
      "\n",
      "The following object is masked from 'package:tidyr':\n",
      "\n",
      "    expand\n",
      "\n",
      "\n",
      "The following object is masked from 'package:utils':\n",
      "\n",
      "    findMatches\n",
      "\n",
      "\n",
      "The following objects are masked from 'package:base':\n",
      "\n",
      "    expand.grid, I, unname\n",
      "\n",
      "\n",
      "Loading required package: IRanges\n",
      "\n",
      "\n",
      "Attaching package: 'IRanges'\n",
      "\n",
      "\n",
      "The following object is masked from 'package:sp':\n",
      "\n",
      "    %over%\n",
      "\n",
      "\n",
      "The following object is masked from 'package:lubridate':\n",
      "\n",
      "    %within%\n",
      "\n",
      "\n",
      "The following objects are masked from 'package:dplyr':\n",
      "\n",
      "    collapse, desc, slice\n",
      "\n",
      "\n",
      "The following object is masked from 'package:purrr':\n",
      "\n",
      "    reduce\n",
      "\n",
      "\n",
      "Loading required package: GenomeInfoDb\n",
      "\n",
      "Loading required package: GenomicFeatures\n",
      "\n",
      "Loading required package: AnnotationDbi\n",
      "\n",
      "Loading required package: Biobase\n",
      "\n",
      "Welcome to Bioconductor\n",
      "\n",
      "    Vignettes contain introductory material; view with\n",
      "    'browseVignettes()'. To cite Bioconductor, see\n",
      "    'citation(\"Biobase\")', and for packages 'citation(\"pkgname\")'.\n",
      "\n",
      "\n",
      "\n",
      "Attaching package: 'AnnotationDbi'\n",
      "\n",
      "\n",
      "The following object is masked from 'package:dplyr':\n",
      "\n",
      "    select\n",
      "\n",
      "\n",
      "Loading required package: AnnotationFilter\n",
      "\n",
      "\n",
      "Attaching package: 'ensembldb'\n",
      "\n",
      "\n",
      "The following object is masked from 'package:dplyr':\n",
      "\n",
      "    filter\n",
      "\n",
      "\n",
      "The following object is masked from 'package:stats':\n",
      "\n",
      "    filter\n",
      "\n",
      "\n",
      "Loading required package: BSgenome\n",
      "\n",
      "Loading required package: Biostrings\n",
      "\n",
      "Loading required package: XVector\n",
      "\n",
      "\n",
      "Attaching package: 'XVector'\n",
      "\n",
      "\n",
      "The following object is masked from 'package:purrr':\n",
      "\n",
      "    compact\n",
      "\n",
      "\n",
      "\n",
      "Attaching package: 'Biostrings'\n",
      "\n",
      "\n",
      "The following object is masked from 'package:base':\n",
      "\n",
      "    strsplit\n",
      "\n",
      "\n",
      "Loading required package: rtracklayer\n",
      "\n",
      "\n",
      "Attaching package: 'cowplot'\n",
      "\n",
      "\n",
      "The following object is masked from 'package:patchwork':\n",
      "\n",
      "    align_plots\n",
      "\n",
      "\n",
      "The following object is masked from 'package:lubridate':\n",
      "\n",
      "    stamp\n",
      "\n",
      "\n"
     ]
    }
   ],
   "source": [
    "library(tidyverse)\n",
    "library(viridis)\n",
    "library(Seurat)\n",
    "library(Signac)\n",
    "library(Azimuth)\n",
    "library(EnsDb.Mmusculus.v79)\n",
    "library(BSgenome.Mmusculus.UCSC.mm10)\n",
    "library(ggpointdensity)\n",
    "library(ggExtra)\n",
    "\n",
    "library(chromVAR)\n",
    "library(JASPAR2020)\n",
    "library(TFBSTools)\n",
    "library(patchwork)\n",
    "library(cowplot)\n",
    "\n",
    "set.seed(1234)\n",
    "options(repr.matrix.max.cols=100, repr.matrix.max.rows=50)\n",
    "options(warn=-1)"
   ]
  },
  {
   "cell_type": "code",
   "execution_count": 3,
   "id": "a332ed47",
   "metadata": {},
   "outputs": [
    {
     "data": {
      "text/plain": [
       "R version 4.3.3 (2024-02-29)\n",
       "Platform: x86_64-conda-linux-gnu (64-bit)\n",
       "Running under: CentOS Linux 7 (Core)\n",
       "\n",
       "Matrix products: default\n",
       "BLAS/LAPACK: /home/users/xjluo/miniconda3/envs/jupyter_env/lib/libopenblasp-r0.3.21.so;  LAPACK version 3.9.0\n",
       "\n",
       "locale:\n",
       " [1] LC_CTYPE=en_US.UTF-8       LC_NUMERIC=C              \n",
       " [3] LC_TIME=en_US.UTF-8        LC_COLLATE=en_US.UTF-8    \n",
       " [5] LC_MONETARY=en_US.UTF-8    LC_MESSAGES=en_US.UTF-8   \n",
       " [7] LC_PAPER=en_US.UTF-8       LC_NAME=C                 \n",
       " [9] LC_ADDRESS=C               LC_TELEPHONE=C            \n",
       "[11] LC_MEASUREMENT=en_US.UTF-8 LC_IDENTIFICATION=C       \n",
       "\n",
       "time zone: America/Los_Angeles\n",
       "tzcode source: system (glibc)\n",
       "\n",
       "attached base packages:\n",
       "[1] stats4    stats     graphics  grDevices utils     datasets  methods  \n",
       "[8] base     \n",
       "\n",
       "other attached packages:\n",
       " [1] cowplot_1.1.3                      patchwork_1.2.0                   \n",
       " [3] TFBSTools_1.38.0                   JASPAR2020_0.99.10                \n",
       " [5] chromVAR_1.24.0                    ggExtra_0.10.1                    \n",
       " [7] ggpointdensity_0.1.0               BSgenome.Mmusculus.UCSC.mm10_1.4.3\n",
       " [9] BSgenome_1.68.0                    rtracklayer_1.60.1                \n",
       "[11] Biostrings_2.70.3                  XVector_0.42.0                    \n",
       "[13] EnsDb.Mmusculus.v79_2.99.0         ensembldb_2.24.1                  \n",
       "[15] AnnotationFilter_1.24.0            GenomicFeatures_1.52.2            \n",
       "[17] AnnotationDbi_1.62.2               Biobase_2.60.0                    \n",
       "[19] GenomicRanges_1.54.1               GenomeInfoDb_1.38.8               \n",
       "[21] IRanges_2.36.0                     S4Vectors_0.40.2                  \n",
       "[23] BiocGenerics_0.48.1                Azimuth_0.5.0                     \n",
       "[25] shinyBS_0.61.1                     Signac_1.13.0                     \n",
       "[27] Seurat_5.1.0                       SeuratObject_5.0.2                \n",
       "[29] sp_2.1-4                           viridis_0.6.5                     \n",
       "[31] viridisLite_0.4.2                  lubridate_1.9.3                   \n",
       "[33] forcats_1.0.0                      stringr_1.5.1                     \n",
       "[35] dplyr_1.1.3                        purrr_1.0.2                       \n",
       "[37] readr_2.1.5                        tidyr_1.3.0                       \n",
       "[39] tibble_3.2.1                       ggplot2_3.4.4                     \n",
       "[41] tidyverse_2.0.0                   \n",
       "\n",
       "loaded via a namespace (and not attached):\n",
       "  [1] fs_1.6.3                          ProtGenerics_1.32.0              \n",
       "  [3] matrixStats_1.0.0                 spatstat.sparse_3.1-0            \n",
       "  [5] bitops_1.0-7                      DirichletMultinomial_1.42.0      \n",
       "  [7] httr_1.4.7                        RColorBrewer_1.1-3               \n",
       "  [9] repr_1.1.7                        tools_4.3.3                      \n",
       " [11] sctransform_0.4.1                 utf8_1.2.4                       \n",
       " [13] R6_2.5.1                          DT_0.33                          \n",
       " [15] lazyeval_0.2.2                    uwot_0.2.2                       \n",
       " [17] rhdf5filters_1.12.1               withr_2.5.1                      \n",
       " [19] prettyunits_1.2.0                 gridExtra_2.3                    \n",
       " [21] progressr_0.14.0                  cli_3.6.3                        \n",
       " [23] spatstat.explore_3.3-1            fastDummies_1.7.3                \n",
       " [25] EnsDb.Hsapiens.v86_2.99.0         shinyjs_2.1.0                    \n",
       " [27] spatstat.data_3.1-2               ggridges_0.5.6                   \n",
       " [29] pbapply_1.7-2                     Rsamtools_2.18.0                 \n",
       " [31] pbdZMQ_0.3-11                     R.utils_2.12.3                   \n",
       " [33] parallelly_1.36.0                 RSQLite_2.3.7                    \n",
       " [35] generics_0.1.3                    BiocIO_1.10.0                    \n",
       " [37] gtools_3.9.5                      ica_1.0-3                        \n",
       " [39] spatstat.random_3.3-1             googlesheets4_1.1.1              \n",
       " [41] GO.db_3.17.0                      Matrix_1.6-5                     \n",
       " [43] fansi_1.0.6                       abind_1.4-5                      \n",
       " [45] R.methodsS3_1.8.2                 lifecycle_1.0.4                  \n",
       " [47] yaml_2.3.7                        SummarizedExperiment_1.30.2      \n",
       " [49] rhdf5_2.44.0                      BiocFileCache_2.8.0              \n",
       " [51] Rtsne_0.17                        grid_4.3.3                       \n",
       " [53] blob_1.2.4                        promises_1.3.0                   \n",
       " [55] shinydashboard_0.7.2              crayon_1.5.3                     \n",
       " [57] miniUI_0.1.1.1                    lattice_0.22-5                   \n",
       " [59] annotate_1.78.0                   KEGGREST_1.40.1                  \n",
       " [61] pillar_1.9.0                      rjson_0.2.21                     \n",
       " [63] future.apply_1.11.0               codetools_0.2-19                 \n",
       " [65] fastmatch_1.1-4                   leiden_0.4.3.1                   \n",
       " [67] glue_1.7.0                        spatstat.univar_3.0-0            \n",
       " [69] data.table_1.15.4                 vctrs_0.6.5                      \n",
       " [71] png_0.1-8                         spam_2.10-0                      \n",
       " [73] cellranger_1.1.0                  gtable_0.3.4                     \n",
       " [75] poweRlaw_0.80.0                   cachem_1.0.8                     \n",
       " [77] S4Arrays_1.0.6                    mime_0.12                        \n",
       " [79] pracma_2.4.4                      survival_3.7-0                   \n",
       " [81] gargle_1.5.2                      RcppRoll_0.3.1                   \n",
       " [83] fitdistrplus_1.2-1                ROCR_1.0-11                      \n",
       " [85] nlme_3.1-163                      bit64_4.0.5                      \n",
       " [87] progress_1.2.3                    filelock_1.0.3                   \n",
       " [89] RcppAnnoy_0.0.22                  irlba_2.3.5.1                    \n",
       " [91] KernSmooth_2.23-24                SeuratDisk_0.0.0.9021            \n",
       " [93] colorspace_2.1-0                  seqLogo_1.66.0                   \n",
       " [95] DBI_1.2.3                         tidyselect_1.2.1                 \n",
       " [97] bit_4.0.5                         compiler_4.3.3                   \n",
       " [99] curl_5.1.0                        hdf5r_1.3.10                     \n",
       "[101] xml2_1.3.6                        DelayedArray_0.26.7              \n",
       "[103] plotly_4.10.4                     scales_1.2.1                     \n",
       "[105] caTools_1.18.2                    lmtest_0.9-40                    \n",
       "[107] rappdirs_0.3.3                    digest_0.6.36                    \n",
       "[109] goftest_1.2-3                     presto_1.0.0                     \n",
       "[111] spatstat.utils_3.0-5              htmltools_0.5.8.1                \n",
       "[113] pkgconfig_2.0.3                   base64enc_0.1-3                  \n",
       "[115] MatrixGenerics_1.12.3             dbplyr_2.5.0                     \n",
       "[117] fastmap_1.2.0                     rlang_1.1.4                      \n",
       "[119] htmlwidgets_1.6.2                 shiny_1.8.1.1                    \n",
       "[121] zoo_1.8-12                        jsonlite_1.8.8                   \n",
       "[123] BiocParallel_1.36.0               R.oo_1.26.0                      \n",
       "[125] RCurl_1.98-1.16                   magrittr_2.0.3                   \n",
       "[127] GenomeInfoDbData_1.2.11           dotCall64_1.1-0                  \n",
       "[129] Rhdf5lib_1.22.1                   IRkernel_1.3.2                   \n",
       "[131] munsell_0.5.0                     Rcpp_1.0.13                      \n",
       "[133] reticulate_1.38.0                 stringi_1.8.4                    \n",
       "[135] zlibbioc_1.48.2                   MASS_7.3-60.0.1                  \n",
       "[137] plyr_1.8.9                        parallel_4.3.3                   \n",
       "[139] listenv_0.9.0                     ggrepel_0.9.5                    \n",
       "[141] deldir_2.0-4                      CNEr_1.36.0                      \n",
       "[143] IRdisplay_1.1                     splines_4.3.3                    \n",
       "[145] tensor_1.5                        hms_1.1.3                        \n",
       "[147] BSgenome.Hsapiens.UCSC.hg38_1.4.5 igraph_2.0.3                     \n",
       "[149] uuid_1.2-0                        spatstat.geom_3.3-2              \n",
       "[151] RcppHNSW_0.6.0                    reshape2_1.4.4                   \n",
       "[153] biomaRt_2.56.1                    TFMPvalue_0.0.9                  \n",
       "[155] XML_3.99-0.17                     evaluate_0.24.0                  \n",
       "[157] tzdb_0.4.0                        httpuv_1.6.15                    \n",
       "[159] RANN_2.6.1                        polyclip_1.10-6                  \n",
       "[161] future_1.33.0                     SeuratData_0.2.2.9001            \n",
       "[163] scattermore_1.2                   xtable_1.8-4                     \n",
       "[165] restfulr_0.0.15                   RSpectra_0.16-2                  \n",
       "[167] later_1.3.1                       googledrive_2.1.1                \n",
       "[169] memoise_2.0.1                     GenomicAlignments_1.36.0         \n",
       "[171] cluster_2.1.6                     timechange_0.3.0                 \n",
       "[173] globals_0.16.2                   "
      ]
     },
     "metadata": {},
     "output_type": "display_data"
    }
   ],
   "source": [
    "sessionInfo()"
   ]
  },
  {
   "cell_type": "code",
   "execution_count": 4,
   "id": "f04074b5",
   "metadata": {},
   "outputs": [],
   "source": [
    "sample1 <- 'E1_V1'\n",
    "sample2 <- 'E2_V2'"
   ]
  },
  {
   "cell_type": "markdown",
   "id": "fc6f3f8d",
   "metadata": {},
   "source": [
    "## STEP 0: Paths"
   ]
  },
  {
   "cell_type": "code",
   "execution_count": 5,
   "id": "2a53583a",
   "metadata": {},
   "outputs": [
    {
     "data": {
      "text/html": [
       "'/oak/stanford/groups/tttt/collaboration/jin/240821_ATAC'"
      ],
      "text/latex": [
       "'/oak/stanford/groups/tttt/collaboration/jin/240821\\_ATAC'"
      ],
      "text/markdown": [
       "'/oak/stanford/groups/tttt/collaboration/jin/240821_ATAC'"
      ],
      "text/plain": [
       "[1] \"/oak/stanford/groups/tttt/collaboration/jin/240821_ATAC\""
      ]
     },
     "metadata": {},
     "output_type": "display_data"
    }
   ],
   "source": [
    "data_master_dir <- '/oak/stanford/groups/tttt/collaboration/jin/240821_ATAC'\n",
    "\n",
    "data_master_dir"
   ]
  },
  {
   "cell_type": "code",
   "execution_count": 6,
   "id": "106d52f2",
   "metadata": {},
   "outputs": [
    {
     "data": {
      "text/html": [
       "'/oak/stanford/groups/tttt/collaboration/jin/240821_ATAC/xjluo_analysis/step2_merge'"
      ],
      "text/latex": [
       "'/oak/stanford/groups/tttt/collaboration/jin/240821\\_ATAC/xjluo\\_analysis/step2\\_merge'"
      ],
      "text/markdown": [
       "'/oak/stanford/groups/tttt/collaboration/jin/240821_ATAC/xjluo_analysis/step2_merge'"
      ],
      "text/plain": [
       "[1] \"/oak/stanford/groups/tttt/collaboration/jin/240821_ATAC/xjluo_analysis/step2_merge\""
      ]
     },
     "metadata": {},
     "output_type": "display_data"
    }
   ],
   "source": [
    "merge_savedir <- paste0(data_master_dir, '/xjluo_analysis/step2_merge')\n",
    "\n",
    "merge_savedir"
   ]
  },
  {
   "cell_type": "code",
   "execution_count": 7,
   "id": "fa2c1421",
   "metadata": {},
   "outputs": [
    {
     "data": {
      "text/html": [
       "'/oak/stanford/groups/tttt/collaboration/jin/240821_ATAC/xjluo_analysis/step2_merge/E_V/E1_V1_E2_V2_merged.rds'"
      ],
      "text/latex": [
       "'/oak/stanford/groups/tttt/collaboration/jin/240821\\_ATAC/xjluo\\_analysis/step2\\_merge/E\\_V/E1\\_V1\\_E2\\_V2\\_merged.rds'"
      ],
      "text/markdown": [
       "'/oak/stanford/groups/tttt/collaboration/jin/240821_ATAC/xjluo_analysis/step2_merge/E_V/E1_V1_E2_V2_merged.rds'"
      ],
      "text/plain": [
       "[1] \"/oak/stanford/groups/tttt/collaboration/jin/240821_ATAC/xjluo_analysis/step2_merge/E_V/E1_V1_E2_V2_merged.rds\""
      ]
     },
     "metadata": {},
     "output_type": "display_data"
    }
   ],
   "source": [
    "# E1+V1+E2+V2 merged object (no cell type labels)\n",
    "E_V.atac.obj.path <- paste0(merge_savedir, '/E_V/', sample1, '_', sample2, '_', 'merged.rds')\n",
    "\n",
    "E_V.atac.obj.path"
   ]
  },
  {
   "cell_type": "code",
   "execution_count": 8,
   "id": "46f1d53c",
   "metadata": {},
   "outputs": [
    {
     "data": {
      "text/html": [
       "'/oak/stanford/groups/tttt/collaboration/jin/240821_ATAC/xjluo_analysis/step2_merge'"
      ],
      "text/latex": [
       "'/oak/stanford/groups/tttt/collaboration/jin/240821\\_ATAC/xjluo\\_analysis/step2\\_merge'"
      ],
      "text/markdown": [
       "'/oak/stanford/groups/tttt/collaboration/jin/240821_ATAC/xjluo_analysis/step2_merge'"
      ],
      "text/plain": [
       "[1] \"/oak/stanford/groups/tttt/collaboration/jin/240821_ATAC/xjluo_analysis/step2_merge\""
      ]
     },
     "metadata": {},
     "output_type": "display_data"
    }
   ],
   "source": [
    "# save output (labeled) object in this folder\n",
    "savedir <- paste0(data_master_dir, '/xjluo_analysis/step2_merge')\n",
    "\n",
    "savedir"
   ]
  },
  {
   "cell_type": "markdown",
   "id": "9711aa38",
   "metadata": {},
   "source": [
    "## STEP 1: Load objects"
   ]
  },
  {
   "cell_type": "code",
   "execution_count": 9,
   "id": "748b6755",
   "metadata": {},
   "outputs": [],
   "source": [
    "E_V.merged.atac.obj <- readRDS(E_V.atac.obj.path)"
   ]
  },
  {
   "cell_type": "code",
   "execution_count": 10,
   "id": "a9359269",
   "metadata": {},
   "outputs": [
    {
     "data": {
      "text/plain": [
       "An object of class Seurat \n",
       "385824 features across 9004 samples within 1 assay \n",
       "Active assay: ATAC (385824 features, 385824 variable features)\n",
       " 2 layers present: counts, data\n",
       " 2 dimensional reductions calculated: lsi, umap"
      ]
     },
     "metadata": {},
     "output_type": "display_data"
    }
   ],
   "source": [
    "E_V.merged.atac.obj"
   ]
  },
  {
   "cell_type": "code",
   "execution_count": 11,
   "id": "fa81d182",
   "metadata": {},
   "outputs": [
    {
     "data": {
      "text/html": [
       "<style>\n",
       ".list-inline {list-style: none; margin:0; padding: 0}\n",
       ".list-inline>li {display: inline-block}\n",
       ".list-inline>li:not(:last-child)::after {content: \"\\00b7\"; padding: 0 .5ex}\n",
       "</style>\n",
       "<ol class=list-inline><li>'orig.ident'</li><li>'nCount_ATAC'</li><li>'nFeature_ATAC'</li><li>'nucleosome_signal'</li><li>'nucleosome_percentile'</li><li>'TSS.enrichment'</li><li>'TSS.percentile'</li><li>'ATAC_snn_res.1.2'</li><li>'seurat_clusters'</li><li>'dataset'</li><li>'highlight'</li></ol>\n"
      ],
      "text/latex": [
       "\\begin{enumerate*}\n",
       "\\item 'orig.ident'\n",
       "\\item 'nCount\\_ATAC'\n",
       "\\item 'nFeature\\_ATAC'\n",
       "\\item 'nucleosome\\_signal'\n",
       "\\item 'nucleosome\\_percentile'\n",
       "\\item 'TSS.enrichment'\n",
       "\\item 'TSS.percentile'\n",
       "\\item 'ATAC\\_snn\\_res.1.2'\n",
       "\\item 'seurat\\_clusters'\n",
       "\\item 'dataset'\n",
       "\\item 'highlight'\n",
       "\\end{enumerate*}\n"
      ],
      "text/markdown": [
       "1. 'orig.ident'\n",
       "2. 'nCount_ATAC'\n",
       "3. 'nFeature_ATAC'\n",
       "4. 'nucleosome_signal'\n",
       "5. 'nucleosome_percentile'\n",
       "6. 'TSS.enrichment'\n",
       "7. 'TSS.percentile'\n",
       "8. 'ATAC_snn_res.1.2'\n",
       "9. 'seurat_clusters'\n",
       "10. 'dataset'\n",
       "11. 'highlight'\n",
       "\n",
       "\n"
      ],
      "text/plain": [
       " [1] \"orig.ident\"            \"nCount_ATAC\"           \"nFeature_ATAC\"        \n",
       " [4] \"nucleosome_signal\"     \"nucleosome_percentile\" \"TSS.enrichment\"       \n",
       " [7] \"TSS.percentile\"        \"ATAC_snn_res.1.2\"      \"seurat_clusters\"      \n",
       "[10] \"dataset\"               \"highlight\"            "
      ]
     },
     "metadata": {},
     "output_type": "display_data"
    }
   ],
   "source": [
    "colnames(E_V.merged.atac.obj@meta.data)"
   ]
  },
  {
   "cell_type": "code",
   "execution_count": 12,
   "id": "640bda66",
   "metadata": {},
   "outputs": [
    {
     "data": {
      "image/png": "[encoded data removed]",
      "text/plain": [
       "plot without title"
      ]
     },
     "metadata": {
      "image/png": {
       "height": 300,
       "width": 360
      }
     },
     "output_type": "display_data"
    }
   ],
   "source": [
    "options(repr.plot.width=6, repr.plot.height=5)\n",
    "\n",
    "DimPlot(E_V.merged.atac.obj, shuffle=TRUE, label = TRUE, repel = TRUE, pt.siz=1, label.size=0, group.by = 'dataset', raster=FALSE) + theme(plot.title = element_text(size=40),\n",
    "                                                                                                                                         axis.title = element_text(size=30)\n",
    "                                                                                                                                        )\n",
    "     \n",
    "\n",
    "     \n",
    "     \n",
    "     "
   ]
  },
  {
   "cell_type": "markdown",
   "id": "e3581bd0",
   "metadata": {},
   "source": [
    "## STEP 2: chromVAR"
   ]
  },
  {
   "cell_type": "code",
   "execution_count": 13,
   "id": "dffd8dc0",
   "metadata": {},
   "outputs": [],
   "source": [
    "# Get a list of motif position frequency matrices from the JASPAR database\n",
    "pfm <- getMatrixSet(\n",
    "  x = JASPAR2020,\n",
    "  opts = list(collection = \"CORE\", tax_group = 'vertebrates', all_versions = FALSE)\n",
    ")"
   ]
  },
  {
   "cell_type": "code",
   "execution_count": 14,
   "id": "2ec69afb",
   "metadata": {},
   "outputs": [
    {
     "name": "stderr",
     "output_type": "stream",
     "text": [
      "Building motif matrix\n",
      "\n",
      "Finding motif positions\n",
      "\n",
      "Creating Motif object\n",
      "\n"
     ]
    }
   ],
   "source": [
    "# add motif information\n",
    "DefaultAssay(E_V.merged.atac.obj) <- 'ATAC'\n",
    "\n",
    "E_V.merged.atac.obj <- AddMotifs(\n",
    "  object = E_V.merged.atac.obj,\n",
    "  genome = BSgenome.Mmusculus.UCSC.mm10,\n",
    "  pfm = pfm\n",
    ")"
   ]
  },
  {
   "cell_type": "code",
   "execution_count": 15,
   "id": "563f813a",
   "metadata": {},
   "outputs": [
    {
     "name": "stderr",
     "output_type": "stream",
     "text": [
      "Computing GC bias per region\n",
      "\n",
      "Selecting background regions\n",
      "\n",
      "Computing deviations from background\n",
      "\n",
      "Constructing chromVAR assay\n",
      "\n"
     ]
    }
   ],
   "source": [
    "E_V.merged.atac.obj <- RunChromVAR(\n",
    "  object = E_V.merged.atac.obj,\n",
    "  genome = BSgenome.Mmusculus.UCSC.mm10\n",
    ")"
   ]
  },
  {
   "cell_type": "code",
   "execution_count": 16,
   "id": "a246de9a",
   "metadata": {},
   "outputs": [
    {
     "data": {
      "text/plain": [
       "An object of class Seurat \n",
       "386570 features across 9004 samples within 2 assays \n",
       "Active assay: ATAC (385824 features, 385824 variable features)\n",
       " 2 layers present: counts, data\n",
       " 1 other assay present: chromvar\n",
       " 2 dimensional reductions calculated: lsi, umap"
      ]
     },
     "metadata": {},
     "output_type": "display_data"
    }
   ],
   "source": [
    "E_V.merged.atac.obj"
   ]
  },
  {
   "cell_type": "markdown",
   "id": "91a4deb0",
   "metadata": {},
   "source": [
    "## Save object"
   ]
  },
  {
   "cell_type": "code",
   "execution_count": 19,
   "id": "3f2148de",
   "metadata": {},
   "outputs": [
    {
     "data": {
      "text/html": [
       "'/oak/stanford/groups/tttt/collaboration/jin/240821_ATAC/xjluo_analysis/step2_merge/E1_V1_E2_V2_merged_chromvar.rds'"
      ],
      "text/latex": [
       "'/oak/stanford/groups/tttt/collaboration/jin/240821\\_ATAC/xjluo\\_analysis/step2\\_merge/E1\\_V1\\_E2\\_V2\\_merged\\_chromvar.rds'"
      ],
      "text/markdown": [
       "'/oak/stanford/groups/tttt/collaboration/jin/240821_ATAC/xjluo_analysis/step2_merge/E1_V1_E2_V2_merged_chromvar.rds'"
      ],
      "text/plain": [
       "[1] \"/oak/stanford/groups/tttt/collaboration/jin/240821_ATAC/xjluo_analysis/step2_merge/E1_V1_E2_V2_merged_chromvar.rds\""
      ]
     },
     "metadata": {},
     "output_type": "display_data"
    }
   ],
   "source": [
    "save_path <- paste0(savedir, '/', sample1, '_', sample2, '_', 'merged_chromvar.rds')\n",
    "\n",
    "save_path"
   ]
  },
  {
   "cell_type": "code",
   "execution_count": 20,
   "id": "568779d2",
   "metadata": {},
   "outputs": [
    {
     "name": "stdout",
     "output_type": "stream",
     "text": [
      "[1] \"Done\"\n"
     ]
    }
   ],
   "source": [
    "saveRDS(E_V.merged.atac.obj, file = save_path)\n",
    "\n",
    "print('Done')"
   ]
  },
  {
   "cell_type": "markdown",
   "id": "1d56a862",
   "metadata": {},
   "source": [
    "# END"
   ]
  }
 ],
 "metadata": {
  "kernelspec": {
   "display_name": "R",
   "language": "R",
   "name": "ir"
  },
  "language_info": {
   "codemirror_mode": "r",
   "file_extension": ".r",
   "mimetype": "text/x-r-source",
   "name": "R",
   "pygments_lexer": "r",
   "version": "4.3.3"
  }
 },
 "nbformat": 4,
 "nbformat_minor": 5
}
