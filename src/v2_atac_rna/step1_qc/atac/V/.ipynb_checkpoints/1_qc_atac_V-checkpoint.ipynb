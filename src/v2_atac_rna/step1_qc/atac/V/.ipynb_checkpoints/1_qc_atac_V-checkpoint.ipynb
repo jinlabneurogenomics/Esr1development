{
 "cells": [
  {
   "cell_type": "markdown",
   "id": "ab1de97c",
   "metadata": {},
   "source": [
    "# QC ATAC (V, E)\n",
    "- V = vehicle\n",
    "- E = estradiol-injected female mice\n",
    "- Both conditions are GFP sorted"
   ]
  },
  {
   "cell_type": "markdown",
   "id": "6beeafbd",
   "metadata": {},
   "source": [
    "## Set up correct conda environment\n"
   ]
  },
  {
   "cell_type": "code",
   "execution_count": 1,
   "id": "8a75ba76",
   "metadata": {},
   "outputs": [
    {
     "data": {
      "text/html": [
       "'/home/users/xjluo/miniconda3/envs/jupyter_env/lib/R/library'"
      ],
      "text/latex": [
       "'/home/users/xjluo/miniconda3/envs/jupyter\\_env/lib/R/library'"
      ],
      "text/markdown": [
       "'/home/users/xjluo/miniconda3/envs/jupyter_env/lib/R/library'"
      ],
      "text/plain": [
       "[1] \"/home/users/xjluo/miniconda3/envs/jupyter_env/lib/R/library\""
      ]
     },
     "metadata": {},
     "output_type": "display_data"
    }
   ],
   "source": [
    ".libPaths()"
   ]
  },
  {
   "cell_type": "code",
   "execution_count": 2,
   "id": "0c3bbd33",
   "metadata": {},
   "outputs": [
    {
     "data": {
      "text/html": [
       "<style>\n",
       ".list-inline {list-style: none; margin:0; padding: 0}\n",
       ".list-inline>li {display: inline-block}\n",
       ".list-inline>li:not(:last-child)::after {content: \"\\00b7\"; padding: 0 .5ex}\n",
       "</style>\n",
       "<ol class=list-inline><li>'/home/groups/tttt/xjluo/miniconda3/envs/single_cell/lib/R/library'</li><li>'/home/users/xjluo/miniconda3/envs/jupyter_env/lib/R/library'</li></ol>\n"
      ],
      "text/latex": [
       "\\begin{enumerate*}\n",
       "\\item '/home/groups/tttt/xjluo/miniconda3/envs/single\\_cell/lib/R/library'\n",
       "\\item '/home/users/xjluo/miniconda3/envs/jupyter\\_env/lib/R/library'\n",
       "\\end{enumerate*}\n"
      ],
      "text/markdown": [
       "1. '/home/groups/tttt/xjluo/miniconda3/envs/single_cell/lib/R/library'\n",
       "2. '/home/users/xjluo/miniconda3/envs/jupyter_env/lib/R/library'\n",
       "\n",
       "\n"
      ],
      "text/plain": [
       "[1] \"/home/groups/tttt/xjluo/miniconda3/envs/single_cell/lib/R/library\"\n",
       "[2] \"/home/users/xjluo/miniconda3/envs/jupyter_env/lib/R/library\"      "
      ]
     },
     "metadata": {},
     "output_type": "display_data"
    }
   ],
   "source": [
    ".libPaths('/home/groups/tttt/xjluo/miniconda3/envs/single_cell/lib/R/library')\n",
    ".libPaths()"
   ]
  },
  {
   "cell_type": "markdown",
   "id": "3baf2502",
   "metadata": {},
   "source": [
    "## Load packages"
   ]
  },
  {
   "cell_type": "code",
   "execution_count": 3,
   "id": "dd93a8c6",
   "metadata": {},
   "outputs": [
    {
     "name": "stderr",
     "output_type": "stream",
     "text": [
      "── \u001b[1mAttaching core tidyverse packages\u001b[22m ──────────────────────── tidyverse 2.0.0 ──\n",
      "\u001b[32m✔\u001b[39m \u001b[34mdplyr    \u001b[39m 1.1.3     \u001b[32m✔\u001b[39m \u001b[34mreadr    \u001b[39m 2.1.4\n",
      "\u001b[32m✔\u001b[39m \u001b[34mforcats  \u001b[39m 1.0.0     \u001b[32m✔\u001b[39m \u001b[34mstringr  \u001b[39m 1.5.0\n",
      "\u001b[32m✔\u001b[39m \u001b[34mggplot2  \u001b[39m 3.4.4     \u001b[32m✔\u001b[39m \u001b[34mtibble   \u001b[39m 3.2.1\n",
      "\u001b[32m✔\u001b[39m \u001b[34mlubridate\u001b[39m 1.9.3     \u001b[32m✔\u001b[39m \u001b[34mtidyr    \u001b[39m 1.3.0\n",
      "\u001b[32m✔\u001b[39m \u001b[34mpurrr    \u001b[39m 1.0.2     \n",
      "── \u001b[1mConflicts\u001b[22m ────────────────────────────────────────── tidyverse_conflicts() ──\n",
      "\u001b[31m✖\u001b[39m \u001b[34mdplyr\u001b[39m::\u001b[32mfilter()\u001b[39m masks \u001b[34mstats\u001b[39m::filter()\n",
      "\u001b[31m✖\u001b[39m \u001b[34mdplyr\u001b[39m::\u001b[32mlag()\u001b[39m    masks \u001b[34mstats\u001b[39m::lag()\n",
      "\u001b[36mℹ\u001b[39m Use the conflicted package (\u001b[3m\u001b[34m<http://conflicted.r-lib.org/>\u001b[39m\u001b[23m) to force all conflicts to become errors\n",
      "Loading required package: viridisLite\n",
      "\n",
      "The legacy packages maptools, rgdal, and rgeos, underpinning the sp package,\n",
      "which was just loaded, were retired in October 2023.\n",
      "Please refer to R-spatial evolution reports for details, especially\n",
      "https://r-spatial.org/r/2023/05/15/evolution4.html.\n",
      "It may be desirable to make the sf package available;\n",
      "package maintainers should consider adding sf to Suggests:.\n",
      "\n",
      "Attaching SeuratObject\n",
      "\n",
      "Registered S3 method overwritten by 'SeuratDisk':\n",
      "  method            from  \n",
      "  as.sparse.H5Group Seurat\n",
      "\n",
      "Attaching shinyBS\n",
      "\n",
      "Loading required package: ensembldb\n",
      "\n",
      "Loading required package: BiocGenerics\n",
      "\n",
      "\n",
      "Attaching package: ‘BiocGenerics’\n",
      "\n",
      "\n",
      "The following objects are masked from ‘package:lubridate’:\n",
      "\n",
      "    intersect, setdiff, union\n",
      "\n",
      "\n",
      "The following objects are masked from ‘package:dplyr’:\n",
      "\n",
      "    combine, intersect, setdiff, union\n",
      "\n",
      "\n",
      "The following objects are masked from ‘package:stats’:\n",
      "\n",
      "    IQR, mad, sd, var, xtabs\n",
      "\n",
      "\n",
      "The following objects are masked from ‘package:base’:\n",
      "\n",
      "    anyDuplicated, aperm, append, as.data.frame, basename, cbind,\n",
      "    colnames, dirname, do.call, duplicated, eval, evalq, Filter, Find,\n",
      "    get, grep, grepl, intersect, is.unsorted, lapply, Map, mapply,\n",
      "    match, mget, order, paste, pmax, pmax.int, pmin, pmin.int,\n",
      "    Position, rank, rbind, Reduce, rownames, sapply, setdiff, sort,\n",
      "    table, tapply, union, unique, unsplit, which.max, which.min\n",
      "\n",
      "\n",
      "Loading required package: GenomicRanges\n",
      "\n",
      "Loading required package: stats4\n",
      "\n",
      "Loading required package: S4Vectors\n",
      "\n",
      "\n",
      "Attaching package: ‘S4Vectors’\n",
      "\n",
      "\n",
      "The following objects are masked from ‘package:lubridate’:\n",
      "\n",
      "    second, second<-\n",
      "\n",
      "\n",
      "The following objects are masked from ‘package:dplyr’:\n",
      "\n",
      "    first, rename\n",
      "\n",
      "\n",
      "The following object is masked from ‘package:tidyr’:\n",
      "\n",
      "    expand\n",
      "\n",
      "\n",
      "The following objects are masked from ‘package:base’:\n",
      "\n",
      "    expand.grid, I, unname\n",
      "\n",
      "\n",
      "Loading required package: IRanges\n",
      "\n",
      "\n",
      "Attaching package: ‘IRanges’\n",
      "\n",
      "\n",
      "The following object is masked from ‘package:lubridate’:\n",
      "\n",
      "    %within%\n",
      "\n",
      "\n",
      "The following objects are masked from ‘package:dplyr’:\n",
      "\n",
      "    collapse, desc, slice\n",
      "\n",
      "\n",
      "The following object is masked from ‘package:purrr’:\n",
      "\n",
      "    reduce\n",
      "\n",
      "\n",
      "Loading required package: GenomeInfoDb\n",
      "\n",
      "Loading required package: GenomicFeatures\n",
      "\n",
      "Loading required package: AnnotationDbi\n",
      "\n",
      "Loading required package: Biobase\n",
      "\n",
      "Welcome to Bioconductor\n",
      "\n",
      "    Vignettes contain introductory material; view with\n",
      "    'browseVignettes()'. To cite Bioconductor, see\n",
      "    'citation(\"Biobase\")', and for packages 'citation(\"pkgname\")'.\n",
      "\n",
      "\n",
      "\n",
      "Attaching package: ‘AnnotationDbi’\n",
      "\n",
      "\n",
      "The following object is masked from ‘package:dplyr’:\n",
      "\n",
      "    select\n",
      "\n",
      "\n",
      "Loading required package: AnnotationFilter\n",
      "\n",
      "\n",
      "Attaching package: 'ensembldb'\n",
      "\n",
      "\n",
      "The following object is masked from 'package:dplyr':\n",
      "\n",
      "    filter\n",
      "\n",
      "\n",
      "The following object is masked from 'package:stats':\n",
      "\n",
      "    filter\n",
      "\n",
      "\n",
      "Loading required package: BSgenome\n",
      "\n",
      "Loading required package: Biostrings\n",
      "\n",
      "Loading required package: XVector\n",
      "\n",
      "\n",
      "Attaching package: 'XVector'\n",
      "\n",
      "\n",
      "The following object is masked from 'package:purrr':\n",
      "\n",
      "    compact\n",
      "\n",
      "\n",
      "\n",
      "Attaching package: 'Biostrings'\n",
      "\n",
      "\n",
      "The following object is masked from 'package:base':\n",
      "\n",
      "    strsplit\n",
      "\n",
      "\n",
      "Loading required package: rtracklayer\n",
      "\n"
     ]
    }
   ],
   "source": [
    "library(tidyverse)\n",
    "library(viridis)\n",
    "library(Seurat)\n",
    "library(Signac)\n",
    "library(Azimuth)\n",
    "library(EnsDb.Mmusculus.v79)\n",
    "library(BSgenome.Mmusculus.UCSC.mm10)\n",
    "library(ggpointdensity)\n",
    "library(ggExtra)\n",
    "\n",
    "set.seed(1234)\n",
    "options(repr.matrix.max.cols=100, repr.matrix.max.rows=50)\n",
    "options(warn=-1)"
   ]
  },
  {
   "cell_type": "code",
   "execution_count": 4,
   "id": "f4c9f44d",
   "metadata": {},
   "outputs": [
    {
     "data": {
      "text/plain": [
       "R version 4.2.0 (2022-04-22)\n",
       "Platform: x86_64-conda-linux-gnu (64-bit)\n",
       "Running under: CentOS Linux 7 (Core)\n",
       "\n",
       "Matrix products: default\n",
       "BLAS/LAPACK: /home/users/xjluo/miniconda3/envs/jupyter_env/lib/libopenblasp-r0.3.21.so\n",
       "\n",
       "locale:\n",
       " [1] LC_CTYPE=en_US.UTF-8       LC_NUMERIC=C              \n",
       " [3] LC_TIME=en_US.UTF-8        LC_COLLATE=en_US.UTF-8    \n",
       " [5] LC_MONETARY=en_US.UTF-8    LC_MESSAGES=en_US.UTF-8   \n",
       " [7] LC_PAPER=en_US.UTF-8       LC_NAME=C                 \n",
       " [9] LC_ADDRESS=C               LC_TELEPHONE=C            \n",
       "[11] LC_MEASUREMENT=en_US.UTF-8 LC_IDENTIFICATION=C       \n",
       "\n",
       "attached base packages:\n",
       "[1] stats4    stats     graphics  grDevices utils     datasets  methods  \n",
       "[8] base     \n",
       "\n",
       "other attached packages:\n",
       " [1] ggExtra_0.10.1                     ggpointdensity_0.1.0              \n",
       " [3] BSgenome.Mmusculus.UCSC.mm10_1.4.3 BSgenome_1.66.3                   \n",
       " [5] rtracklayer_1.58.0                 Biostrings_2.66.0                 \n",
       " [7] XVector_0.38.0                     EnsDb.Mmusculus.v79_2.99.0        \n",
       " [9] ensembldb_2.22.0                   AnnotationFilter_1.22.0           \n",
       "[11] GenomicFeatures_1.50.4             AnnotationDbi_1.60.2              \n",
       "[13] Biobase_2.58.0                     GenomicRanges_1.50.2              \n",
       "[15] GenomeInfoDb_1.34.9                IRanges_2.32.0                    \n",
       "[17] S4Vectors_0.36.2                   BiocGenerics_0.44.0               \n",
       "[19] Azimuth_0.4.6                      shinyBS_0.61.1                    \n",
       "[21] Signac_1.9.0                       SeuratObject_4.1.4                \n",
       "[23] Seurat_4.3.0                       viridis_0.6.4                     \n",
       "[25] viridisLite_0.4.2                  lubridate_1.9.3                   \n",
       "[27] forcats_1.0.0                      stringr_1.5.0                     \n",
       "[29] dplyr_1.1.3                        purrr_1.0.2                       \n",
       "[31] readr_2.1.4                        tidyr_1.3.0                       \n",
       "[33] tibble_3.2.1                       ggplot2_3.4.4                     \n",
       "[35] tidyverse_2.0.0                   \n",
       "\n",
       "loaded via a namespace (and not attached):\n",
       "  [1] utf8_1.2.3                  shinydashboard_0.7.2       \n",
       "  [3] spatstat.explore_3.2-3      reticulate_1.32.0          \n",
       "  [5] tidyselect_1.2.0            RSQLite_2.3.1              \n",
       "  [7] htmlwidgets_1.6.2           grid_4.2.0                 \n",
       "  [9] BiocParallel_1.32.6         Rtsne_0.16                 \n",
       " [11] munsell_0.5.0               codetools_0.2-19           \n",
       " [13] ica_1.0-3                   DT_0.30                    \n",
       " [15] pbdZMQ_0.3-10               future_1.33.0              \n",
       " [17] miniUI_0.1.1.1              withr_2.5.1                \n",
       " [19] spatstat.random_3.1-6       colorspace_2.1-0           \n",
       " [21] progressr_0.14.0            filelock_1.0.2             \n",
       " [23] uuid_1.1-1                  ROCR_1.0-11                \n",
       " [25] tensor_1.5                  listenv_0.9.0              \n",
       " [27] MatrixGenerics_1.10.0       repr_1.1.6                 \n",
       " [29] GenomeInfoDbData_1.2.9      polyclip_1.10-6            \n",
       " [31] bit64_4.0.5                 parallelly_1.36.0          \n",
       " [33] vctrs_0.6.4                 generics_0.1.3             \n",
       " [35] BiocFileCache_2.6.1         timechange_0.2.0           \n",
       " [37] R6_2.5.1                    hdf5r_1.3.8                \n",
       " [39] DelayedArray_0.24.0         bitops_1.0-7               \n",
       " [41] spatstat.utils_3.0-3        cachem_1.0.8               \n",
       " [43] BiocIO_1.8.0                promises_1.2.1             \n",
       " [45] scales_1.2.1                googlesheets4_1.1.1        \n",
       " [47] gtable_0.3.4                globals_0.16.2             \n",
       " [49] goftest_1.2-3               rlang_1.1.1                \n",
       " [51] RcppRoll_0.3.0              splines_4.2.0              \n",
       " [53] lazyeval_0.2.2              gargle_1.5.2               \n",
       " [55] spatstat.geom_3.2-5         yaml_2.3.7                 \n",
       " [57] reshape2_1.4.4              abind_1.4-5                \n",
       " [59] httpuv_1.6.11               SeuratDisk_0.0.0.9020      \n",
       " [61] tools_4.2.0                 SeuratData_0.2.2           \n",
       " [63] ellipsis_0.3.2              RColorBrewer_1.1-3         \n",
       " [65] ggridges_0.5.4              Rcpp_1.0.11                \n",
       " [67] plyr_1.8.9                  base64enc_0.1-3            \n",
       " [69] progress_1.2.2              zlibbioc_1.44.0            \n",
       " [71] RCurl_1.98-1.12             prettyunits_1.2.0          \n",
       " [73] deldir_1.0-9                pbapply_1.7-2              \n",
       " [75] cowplot_1.1.1               zoo_1.8-12                 \n",
       " [77] SummarizedExperiment_1.28.0 ggrepel_0.9.4              \n",
       " [79] cluster_2.1.4               fs_1.6.3                   \n",
       " [81] magrittr_2.0.3              data.table_1.14.8          \n",
       " [83] scattermore_1.2             lmtest_0.9-40              \n",
       " [85] RANN_2.6.1                  googledrive_2.1.1          \n",
       " [87] ProtGenerics_1.30.0         fitdistrplus_1.1-11        \n",
       " [89] matrixStats_1.0.0           hms_1.1.3                  \n",
       " [91] patchwork_1.1.3             shinyjs_2.1.0              \n",
       " [93] mime_0.12                   evaluate_0.22              \n",
       " [95] xtable_1.8-4                XML_3.99-0.14              \n",
       " [97] gridExtra_2.3               compiler_4.2.0             \n",
       " [99] biomaRt_2.54.1              KernSmooth_2.23-22         \n",
       "[101] crayon_1.5.2                htmltools_0.5.6.1          \n",
       "[103] later_1.3.1                 tzdb_0.4.0                 \n",
       "[105] DBI_1.1.3                   dbplyr_2.3.4               \n",
       "[107] MASS_7.3-60                 rappdirs_0.3.3             \n",
       "[109] Matrix_1.6-1.1              cli_3.6.1                  \n",
       "[111] parallel_4.2.0              igraph_1.4.2               \n",
       "[113] pkgconfig_2.0.3             GenomicAlignments_1.34.1   \n",
       "[115] sp_2.1-0                    IRdisplay_1.1              \n",
       "[117] plotly_4.10.2               spatstat.sparse_3.0-2      \n",
       "[119] xml2_1.3.4                  digest_0.6.33              \n",
       "[121] sctransform_0.3.5           RcppAnnoy_0.0.21           \n",
       "[123] spatstat.data_3.0-1         cellranger_1.1.0           \n",
       "[125] leiden_0.4.3                fastmatch_1.1-4            \n",
       "[127] uwot_0.1.16                 restfulr_0.0.15            \n",
       "[129] curl_5.1.0                  shiny_1.7.5                \n",
       "[131] Rsamtools_2.14.0            rjson_0.2.21               \n",
       "[133] lifecycle_1.0.3             nlme_3.1-163               \n",
       "[135] jsonlite_1.8.7              fansi_1.0.5                \n",
       "[137] pillar_1.9.0                lattice_0.21-9             \n",
       "[139] KEGGREST_1.38.0             fastmap_1.1.1              \n",
       "[141] httr_1.4.7                  survival_3.5-7             \n",
       "[143] glue_1.6.2                  png_0.1-8                  \n",
       "[145] bit_4.0.5                   presto_1.0.0               \n",
       "[147] stringi_1.7.6               blob_1.2.4                 \n",
       "[149] memoise_2.0.1               IRkernel_1.3.2             \n",
       "[151] irlba_2.3.5.1               future.apply_1.11.0        "
      ]
     },
     "metadata": {},
     "output_type": "display_data"
    }
   ],
   "source": [
    "sessionInfo()"
   ]
  },
  {
   "cell_type": "markdown",
   "id": "fb60ea84",
   "metadata": {},
   "source": [
    "## E or V"
   ]
  },
  {
   "cell_type": "code",
   "execution_count": 5,
   "id": "2e77aa50",
   "metadata": {},
   "outputs": [],
   "source": [
    "sample <- 'V'"
   ]
  },
  {
   "cell_type": "markdown",
   "id": "017d6548",
   "metadata": {},
   "source": [
    "## Paths"
   ]
  },
  {
   "cell_type": "code",
   "execution_count": 6,
   "id": "f4ec5821",
   "metadata": {},
   "outputs": [
    {
     "data": {
      "text/html": [
       "'/oak/stanford/groups/tttt/collaboration/jin/231220_ATAC/cellranger'"
      ],
      "text/latex": [
       "'/oak/stanford/groups/tttt/collaboration/jin/231220\\_ATAC/cellranger'"
      ],
      "text/markdown": [
       "'/oak/stanford/groups/tttt/collaboration/jin/231220_ATAC/cellranger'"
      ],
      "text/plain": [
       "[1] \"/oak/stanford/groups/tttt/collaboration/jin/231220_ATAC/cellranger\""
      ]
     },
     "metadata": {},
     "output_type": "display_data"
    }
   ],
   "source": [
    "data_master_dir <- '/oak/stanford/groups/tttt/collaboration/jin/231220_ATAC/cellranger'\n",
    "\n",
    "data_master_dir"
   ]
  },
  {
   "cell_type": "code",
   "execution_count": 7,
   "id": "abf6b2be",
   "metadata": {},
   "outputs": [],
   "source": [
    "# fragments files\n",
    "frag_file <- paste0(data_master_dir, '/', 'GFP_', sample, '_ATAC', '/outs/', 'fragments.tsv.gz')\n",
    "\n",
    "# raw peak bc matrices\n",
    "atac_filtered_feature_bc_matrix_path <- paste0(data_master_dir, '/', 'GFP_', sample, '_ATAC', '/outs/', 'filtered_peak_bc_matrix.h5')\n"
   ]
  },
  {
   "cell_type": "code",
   "execution_count": 8,
   "id": "3e998ca6",
   "metadata": {},
   "outputs": [
    {
     "data": {
      "text/html": [
       "'/oak/stanford/groups/tttt/collaboration/jin/231220_ATAC/cellranger/GFP_V_ATAC/outs/fragments.tsv.gz'"
      ],
      "text/latex": [
       "'/oak/stanford/groups/tttt/collaboration/jin/231220\\_ATAC/cellranger/GFP\\_V\\_ATAC/outs/fragments.tsv.gz'"
      ],
      "text/markdown": [
       "'/oak/stanford/groups/tttt/collaboration/jin/231220_ATAC/cellranger/GFP_V_ATAC/outs/fragments.tsv.gz'"
      ],
      "text/plain": [
       "[1] \"/oak/stanford/groups/tttt/collaboration/jin/231220_ATAC/cellranger/GFP_V_ATAC/outs/fragments.tsv.gz\""
      ]
     },
     "metadata": {},
     "output_type": "display_data"
    },
    {
     "data": {
      "text/html": [
       "'/oak/stanford/groups/tttt/collaboration/jin/231220_ATAC/cellranger/GFP_V_ATAC/outs/filtered_peak_bc_matrix.h5'"
      ],
      "text/latex": [
       "'/oak/stanford/groups/tttt/collaboration/jin/231220\\_ATAC/cellranger/GFP\\_V\\_ATAC/outs/filtered\\_peak\\_bc\\_matrix.h5'"
      ],
      "text/markdown": [
       "'/oak/stanford/groups/tttt/collaboration/jin/231220_ATAC/cellranger/GFP_V_ATAC/outs/filtered_peak_bc_matrix.h5'"
      ],
      "text/plain": [
       "[1] \"/oak/stanford/groups/tttt/collaboration/jin/231220_ATAC/cellranger/GFP_V_ATAC/outs/filtered_peak_bc_matrix.h5\""
      ]
     },
     "metadata": {},
     "output_type": "display_data"
    }
   ],
   "source": [
    "frag_file\n",
    "atac_filtered_feature_bc_matrix_path"
   ]
  },
  {
   "cell_type": "code",
   "execution_count": 9,
   "id": "d50dc6ad",
   "metadata": {},
   "outputs": [],
   "source": [
    "# MACS peak-calling software\n",
    "macs_path <- '/home/groups/tttt/xjluo/miniconda3/envs/macs3_env/bin/macs3'"
   ]
  },
  {
   "cell_type": "code",
   "execution_count": 10,
   "id": "6945fea4",
   "metadata": {},
   "outputs": [
    {
     "data": {
      "text/html": [
       "'/oak/stanford/groups/tttt/collaboration/jin/231220_ATAC/cellranger/xjluo_analysis/step1_qc'"
      ],
      "text/latex": [
       "'/oak/stanford/groups/tttt/collaboration/jin/231220\\_ATAC/cellranger/xjluo\\_analysis/step1\\_qc'"
      ],
      "text/markdown": [
       "'/oak/stanford/groups/tttt/collaboration/jin/231220_ATAC/cellranger/xjluo_analysis/step1_qc'"
      ],
      "text/plain": [
       "[1] \"/oak/stanford/groups/tttt/collaboration/jin/231220_ATAC/cellranger/xjluo_analysis/step1_qc\""
      ]
     },
     "metadata": {},
     "output_type": "display_data"
    }
   ],
   "source": [
    "# outputs\n",
    "outdir <- '/oak/stanford/groups/tttt/collaboration/jin/231220_ATAC/cellranger/xjluo_analysis/step1_qc'\n",
    "\n",
    "outdir"
   ]
  },
  {
   "cell_type": "code",
   "execution_count": 11,
   "id": "c4cfae77",
   "metadata": {},
   "outputs": [
    {
     "data": {
      "text/html": [
       "'/oak/stanford/groups/tttt/collaboration/jin/231220_ATAC/cellranger/xjluo_analysis/step1_qc/ATAC'"
      ],
      "text/latex": [
       "'/oak/stanford/groups/tttt/collaboration/jin/231220\\_ATAC/cellranger/xjluo\\_analysis/step1\\_qc/ATAC'"
      ],
      "text/markdown": [
       "'/oak/stanford/groups/tttt/collaboration/jin/231220_ATAC/cellranger/xjluo_analysis/step1_qc/ATAC'"
      ],
      "text/plain": [
       "[1] \"/oak/stanford/groups/tttt/collaboration/jin/231220_ATAC/cellranger/xjluo_analysis/step1_qc/ATAC\""
      ]
     },
     "metadata": {},
     "output_type": "display_data"
    }
   ],
   "source": [
    "# save ATAC objects here\n",
    "save_dir <- paste0(outdir, '/', 'ATAC')\n",
    "save_dir"
   ]
  },
  {
   "cell_type": "markdown",
   "id": "af20856d",
   "metadata": {},
   "source": [
    "## Load counts"
   ]
  },
  {
   "cell_type": "code",
   "execution_count": 12,
   "id": "9e6ecf03",
   "metadata": {},
   "outputs": [],
   "source": [
    "counts.mtx <- Read10X_h5(atac_filtered_feature_bc_matrix_path)"
   ]
  },
  {
   "cell_type": "code",
   "execution_count": 13,
   "id": "a3242127",
   "metadata": {},
   "outputs": [
    {
     "data": {
      "text/html": [
       "<style>\n",
       ".list-inline {list-style: none; margin:0; padding: 0}\n",
       ".list-inline>li {display: inline-block}\n",
       ".list-inline>li:not(:last-child)::after {content: \"\\00b7\"; padding: 0 .5ex}\n",
       "</style>\n",
       "<ol class=list-inline><li>'AAACGAACAAGTTCGT-1'</li><li>'AAACGAAGTATTCACG-1'</li><li>'AAACGAAGTTTAAGGA-1'</li><li>'AAACTCGGTTATCGAC-1'</li><li>'AAACTGCCACGGTTAT-1'</li><li>'AAACTGCCATTACACG-1'</li></ol>\n"
      ],
      "text/latex": [
       "\\begin{enumerate*}\n",
       "\\item 'AAACGAACAAGTTCGT-1'\n",
       "\\item 'AAACGAAGTATTCACG-1'\n",
       "\\item 'AAACGAAGTTTAAGGA-1'\n",
       "\\item 'AAACTCGGTTATCGAC-1'\n",
       "\\item 'AAACTGCCACGGTTAT-1'\n",
       "\\item 'AAACTGCCATTACACG-1'\n",
       "\\end{enumerate*}\n"
      ],
      "text/markdown": [
       "1. 'AAACGAACAAGTTCGT-1'\n",
       "2. 'AAACGAAGTATTCACG-1'\n",
       "3. 'AAACGAAGTTTAAGGA-1'\n",
       "4. 'AAACTCGGTTATCGAC-1'\n",
       "5. 'AAACTGCCACGGTTAT-1'\n",
       "6. 'AAACTGCCATTACACG-1'\n",
       "\n",
       "\n"
      ],
      "text/plain": [
       "[1] \"AAACGAACAAGTTCGT-1\" \"AAACGAAGTATTCACG-1\" \"AAACGAAGTTTAAGGA-1\"\n",
       "[4] \"AAACTCGGTTATCGAC-1\" \"AAACTGCCACGGTTAT-1\" \"AAACTGCCATTACACG-1\""
      ]
     },
     "metadata": {},
     "output_type": "display_data"
    }
   ],
   "source": [
    "head(colnames(counts.mtx))"
   ]
  },
  {
   "cell_type": "markdown",
   "id": "a58fc492",
   "metadata": {},
   "source": [
    "## Create Seurat objects\n",
    "- https://stuartlab.org/signac/articles/pbmc_vignette.html"
   ]
  },
  {
   "cell_type": "code",
   "execution_count": null,
   "id": "2b3be4cd",
   "metadata": {},
   "outputs": [],
   "source": [
    "# get gene annotations for mm10\n",
    "annotation <- GetGRangesFromEnsDb(ensdb = EnsDb.Mmusculus.v79)\n",
    "seqlevelsStyle(annotation) <- \"UCSC\""
   ]
  },
  {
   "cell_type": "code",
   "execution_count": null,
   "id": "42ebd515",
   "metadata": {},
   "outputs": [],
   "source": [
    "ChromatinAssay <- CreateChromatinAssay(\n",
    "    counts = counts.mtx,    \n",
    "    sep = c(\":\", \"-\"),\n",
    "    fragments = frag_file,\n",
    "    annotation = annotation\n",
    ")\n",
    "    "
   ]
  },
  {
   "cell_type": "code",
   "execution_count": null,
   "id": "c8f69c3c",
   "metadata": {},
   "outputs": [],
   "source": [
    "obj <- CreateSeuratObject(\n",
    "    counts = ChromatinAssay,\n",
    "    assay = \"ATAC\"\n",
    ")\n",
    "     "
   ]
  },
  {
   "cell_type": "code",
   "execution_count": null,
   "id": "6bc8f5f4",
   "metadata": {},
   "outputs": [],
   "source": [
    "obj"
   ]
  },
  {
   "cell_type": "markdown",
   "id": "4bf2176b",
   "metadata": {},
   "source": [
    "### Check object contents"
   ]
  },
  {
   "cell_type": "code",
   "execution_count": null,
   "id": "7f7fd36f",
   "metadata": {},
   "outputs": [],
   "source": [
    "head(rownames(GetAssayData(obj, assay = 'ATAC', slot = 'data')))\n",
    "head(colnames(GetAssayData(obj, assay = 'ATAC', slot = 'data')))\n",
    "dim(GetAssayData(obj, assay = 'ATAC', slot = 'data'))"
   ]
  },
  {
   "cell_type": "code",
   "execution_count": null,
   "id": "a68d83e0",
   "metadata": {},
   "outputs": [],
   "source": [
    "head(obj@meta.data)\n",
    "dim(obj@meta.data)"
   ]
  },
  {
   "cell_type": "markdown",
   "id": "071007ba",
   "metadata": {},
   "source": [
    "## Step 1: QC"
   ]
  },
  {
   "cell_type": "markdown",
   "id": "5442ee98",
   "metadata": {},
   "source": [
    "### Thresholds\n",
    "- Soumya Kundu, Selin Jessa (Kundaje Lab)"
   ]
  },
  {
   "cell_type": "code",
   "execution_count": null,
   "id": "d4affdee",
   "metadata": {},
   "outputs": [],
   "source": [
    "min_ncount_atac <- 4000\n",
    "min_tss_enrich <- 2.5\n",
    "\n",
    "max_ncount_atac <- quantile(obj$nCount_ATAC, prob=0.995)\n",
    "\n",
    "print(paste('Max nCount_ATAC: ', max_ncount_atac))"
   ]
  },
  {
   "cell_type": "markdown",
   "id": "d5aecd53",
   "metadata": {},
   "source": [
    "# QC"
   ]
  },
  {
   "cell_type": "code",
   "execution_count": null,
   "id": "812f2a59",
   "metadata": {},
   "outputs": [],
   "source": [
    "DefaultAssay(obj) <- \"ATAC\"\n",
    "\n",
    "obj <- NucleosomeSignal(obj)\n",
    "obj <- TSSEnrichment(obj, fast=FALSE)\n",
    "     "
   ]
  },
  {
   "cell_type": "markdown",
   "id": "566288f1",
   "metadata": {},
   "source": [
    "## Visualize QC"
   ]
  },
  {
   "cell_type": "markdown",
   "id": "a0fb0293",
   "metadata": {},
   "source": [
    "### Nucleosomal signal"
   ]
  },
  {
   "cell_type": "code",
   "execution_count": null,
   "id": "1f7aae7b",
   "metadata": {},
   "outputs": [],
   "source": [
    "options(repr.plot.width=5, repr.plot.height=5)\n",
    "\n",
    "VlnPlot(\n",
    "    object = obj,\n",
    "    features = \"nucleosome_signal\"\n",
    ")"
   ]
  },
  {
   "cell_type": "code",
   "execution_count": null,
   "id": "bc4baf21",
   "metadata": {},
   "outputs": [],
   "source": [
    "options(repr.plot.width=5, repr.plot.height=5)\n",
    "\n",
    "VlnPlot(\n",
    "    object = obj,\n",
    "    features = \"nucleosome_signal\",\n",
    "    y.max = 1.2\n",
    ")"
   ]
  },
  {
   "cell_type": "markdown",
   "id": "555ed015",
   "metadata": {},
   "source": [
    "## Basic metrics"
   ]
  },
  {
   "cell_type": "code",
   "execution_count": null,
   "id": "2e1c4b4d",
   "metadata": {},
   "outputs": [],
   "source": [
    "options(repr.plot.width=10, repr.plot.height=5)\n",
    "\n",
    "atac1 <- VlnPlot(\n",
    "    object = obj,\n",
    "    features = \"nCount_ATAC\",\n",
    "    y.max = 50000,\n",
    ")\n",
    "\n",
    "\n",
    "atac2 <- VlnPlot(\n",
    "    object = obj,\n",
    "    features = \"TSS.enrichment\",\n",
    "    y.max = 10,\n",
    ")\n",
    "\n",
    "(atac1 | atac2)\n",
    "     "
   ]
  },
  {
   "cell_type": "markdown",
   "id": "b3b62706",
   "metadata": {},
   "source": [
    "### ATAC: TSS Enrichment vs. Counts\n"
   ]
  },
  {
   "cell_type": "code",
   "execution_count": null,
   "id": "cd5b2226",
   "metadata": {},
   "outputs": [],
   "source": [
    "options(repr.plot.width=20, repr.plot.height=10)\n",
    "\n",
    "scatter5 <- ggplot(obj@meta.data, aes(x=nCount_ATAC, y=TSS.enrichment)) +\n",
    "                geom_pointdensity() +\n",
    "                scale_color_viridis() +\n",
    "                theme_bw() +\n",
    "                geom_vline(xintercept=min_ncount_atac, size=1, color='red') +\n",
    "                geom_hline(yintercept=min_tss_enrich, size=1, color='red') +\n",
    "                geom_vline(xintercept=max_ncount_atac, size=1, color='red') +\n",
    "                xlim(0, max_ncount_atac + 20000) +\n",
    "                ylim(0, 10)\n",
    "\n",
    "scatter6 <- ggplot(obj@meta.data, aes(x=nCount_ATAC, y=TSS.enrichment)) +\n",
    "                geom_pointdensity() +\n",
    "                scale_color_viridis() +\n",
    "                theme_bw() +\n",
    "                geom_vline(xintercept=min_ncount_atac, size=1, color='red') +\n",
    "                geom_hline(yintercept=min_tss_enrich, size=1, color='red') +\n",
    "                geom_vline(xintercept=max_ncount_atac, size=1, color='red') +\n",
    "                xlim(0, min_ncount_atac + 10000) +\n",
    "                ylim(0, 10)\n",
    "\n",
    "scatter5_marg <- ggMarginal(scatter5, type=\"histogram\")\n",
    "scatter6_marg <- ggMarginal(scatter6, type=\"histogram\")\n",
    "\n",
    "scatter5_marg"
   ]
  },
  {
   "cell_type": "code",
   "execution_count": null,
   "id": "03918ad6",
   "metadata": {},
   "outputs": [],
   "source": [
    "scatter6_marg"
   ]
  },
  {
   "cell_type": "markdown",
   "id": "35c1b958",
   "metadata": {},
   "source": [
    "### Fragment Length Distribution and TSS Enrichment\n"
   ]
  },
  {
   "cell_type": "code",
   "execution_count": null,
   "id": "b7163bfd",
   "metadata": {},
   "outputs": [],
   "source": [
    "options(repr.plot.width=20, repr.plot.height=5)\n",
    "\n",
    "plot1 <- FragmentHistogram(object=obj, \n",
    "                           region = \"chr1-1-195471971\",    # http://hgdownload.cse.ucsc.edu/goldenpath/mm10/bigZips/mm10.chrom.sizes\n",
    "                           assay='ATAC')\n",
    "\n",
    "plot2 <- TSSPlot(object=obj, assay='ATAC')\n",
    "\n",
    "(plot1 | plot2)"
   ]
  },
  {
   "cell_type": "markdown",
   "id": "179a8a70",
   "metadata": {},
   "source": [
    "### Save unfiltered object (with filtered barcode matrix)"
   ]
  },
  {
   "cell_type": "code",
   "execution_count": null,
   "id": "b1ba0d5e",
   "metadata": {},
   "outputs": [],
   "source": [
    "saveRDS_path <- paste0(save_dir, '/1_unfiltered_objects/', sample, \".ATAC.unfiltered.Seurat.v4.rds\")\n",
    "saveRDS(obj, file = saveRDS_path)\n",
    "\n",
    "print(paste('Saved unfiltered RDS to:', saveRDS_path))\n",
    "\n",
    "obj\n",
    "Version(obj)"
   ]
  },
  {
   "cell_type": "markdown",
   "id": "64f3ca89",
   "metadata": {},
   "source": [
    "# Filter cells"
   ]
  },
  {
   "cell_type": "code",
   "execution_count": null,
   "id": "800f1737",
   "metadata": {},
   "outputs": [],
   "source": [
    "# filter out low quality cells\n",
    "filtered_pre_macs <- subset(\n",
    "  x = obj,\n",
    "  subset = TSS.enrichment > min_tss_enrich &\n",
    "           nCount_ATAC > min_ncount_atac &\n",
    "           nCount_ATAC < max_ncount_atac\n",
    ")\n",
    "\n",
    "filtered_pre_macs"
   ]
  },
  {
   "cell_type": "markdown",
   "id": "00e12631",
   "metadata": {},
   "source": [
    "# MACS3 peak calling"
   ]
  },
  {
   "cell_type": "code",
   "execution_count": null,
   "id": "25b027ca",
   "metadata": {},
   "outputs": [],
   "source": [
    "if (!dir.exists(paste0(outdir, \"/ATAC\", \"/macs3_inputs/\"))) {\n",
    "    dir.create(paste0(outdir, \"/ATAC\", \"/macs3_inputs/\"))\n",
    "}\n",
    "\n",
    "if (!dir.exists(paste0(outdir, \"/ATAC\", \"/macs3_outputs/\"))) {\n",
    "    dir.create(paste0(outdir, \"/ATAC\", \"/macs3_outputs/\"))\n",
    "}"
   ]
  },
  {
   "cell_type": "markdown",
   "id": "7570624a",
   "metadata": {},
   "source": [
    "## Subset fragments file for passed-QC barcodes"
   ]
  },
  {
   "cell_type": "code",
   "execution_count": null,
   "id": "78297efd",
   "metadata": {},
   "outputs": [],
   "source": [
    "frag_file"
   ]
  },
  {
   "cell_type": "code",
   "execution_count": null,
   "id": "29a446d3",
   "metadata": {},
   "outputs": [],
   "source": [
    "subsetted_frag_file <- paste0(outdir, \"/ATAC\", \"/macs3_inputs/\", sample, '_filt_fragments.tsv.gz')\n",
    "subsetted_frag_file"
   ]
  },
  {
   "cell_type": "code",
   "execution_count": null,
   "id": "c55c7057",
   "metadata": {},
   "outputs": [],
   "source": [
    "# sanity check\n",
    "setequal(colnames(filtered_pre_macs), Cells(filtered_pre_macs))\n",
    "\n",
    "head(colnames(filtered_pre_macs))\n",
    "length(colnames(filtered_pre_macs))"
   ]
  },
  {
   "cell_type": "code",
   "execution_count": null,
   "id": "0c7de727",
   "metadata": {},
   "outputs": [],
   "source": [
    "FilterCells(\n",
    "  fragments = frag_file,\n",
    "  cells = colnames(filtered_pre_macs),\n",
    "  outfile = subsetted_frag_file\n",
    ")\n"
   ]
  },
  {
   "cell_type": "markdown",
   "id": "c05ca6b3",
   "metadata": {},
   "source": [
    "## Generate Tn5 cut sites 'reads' file"
   ]
  },
  {
   "cell_type": "code",
   "execution_count": null,
   "id": "1e1afab2",
   "metadata": {},
   "outputs": [],
   "source": [
    "macs_outdir <- paste0(outdir, \"/ATAC\", \"/macs3_inputs/\")\n",
    "\n",
    "macs_outdir"
   ]
  },
  {
   "cell_type": "code",
   "execution_count": null,
   "id": "5debf458",
   "metadata": {},
   "outputs": [],
   "source": [
    "# decompress fragments file\n",
    "\n",
    "subsetted_frag_file_decompressed <- paste0(outdir, \"/ATAC\", \"/macs3_inputs/\", sample, '_filt_fragments.tsv')\n",
    "\n",
    "subsetted_frag_file_decompressed"
   ]
  },
  {
   "cell_type": "code",
   "execution_count": null,
   "id": "cb5bcacc",
   "metadata": {},
   "outputs": [],
   "source": [
    "cmd_decompress <- noquote(paste('gzip', '-dc',\n",
    "                subsetted_frag_file, \n",
    "#                                 '|',\n",
    "#              'awk', \"'BEGIN\", '{FS=OFS=\"\\t\"}', \"{print $1,$2,$3,$4,$5}'\", '-', \n",
    "             '>',\n",
    "             subsetted_frag_file_decompressed))\n",
    "\n",
    "\n",
    "print(cmd_decompress)\n",
    "\n",
    "system(cmd_decompress, intern=TRUE)\n",
    "\n",
    "\n",
    "# https://www.gnu.org/software/gzip/manual/gzip.html\n",
    "# https://stuartlab.org/signac/0.2/articles/merging.html\n",
    "# https://stackoverflow.com/questions/45362944/avoid-r-function-paste-generating-backslash-for-quotes"
   ]
  },
  {
   "cell_type": "code",
   "execution_count": null,
   "id": "dc40f64a",
   "metadata": {},
   "outputs": [],
   "source": [
    "# get Tn5 cut sites\n",
    "\n",
    "system(paste('python3', 'process_frags_qc.py',\n",
    "                sample,\n",
    "             macs_outdir,\n",
    "                subsetted_frag_file_decompressed), intern=TRUE)"
   ]
  },
  {
   "cell_type": "code",
   "execution_count": null,
   "id": "c3ceb494",
   "metadata": {},
   "outputs": [],
   "source": [
    "# sort the file\n",
    "\n",
    "tn5_sites_file_path <- paste0(macs_outdir, '/', sample, '_Tn5_sites.tsv')\n",
    "tn5_sites_file_path\n",
    "\n",
    "system(paste(\"sort -k 1,1V -k2,2n\", \n",
    "             tn5_sites_file_path,\n",
    "             \">\",\n",
    "             paste0(macs_outdir, '/', sample, '_Tn5_sites_sorted.tsv')))\n",
    "\n",
    "print('sorted file')\n",
    "     "
   ]
  },
  {
   "cell_type": "markdown",
   "id": "4640e207",
   "metadata": {},
   "source": [
    "## Call MACS peaks"
   ]
  },
  {
   "cell_type": "code",
   "execution_count": null,
   "id": "4008f48a",
   "metadata": {},
   "outputs": [],
   "source": [
    "macs_output_peaks_dir <- paste0(outdir, \"/ATAC\", \"/macs3_outputs/\")\n",
    "\n",
    "macs_output_peaks_dir"
   ]
  },
  {
   "cell_type": "code",
   "execution_count": null,
   "id": "147ea8f5",
   "metadata": {},
   "outputs": [],
   "source": [
    "macs_path"
   ]
  },
  {
   "cell_type": "code",
   "execution_count": null,
   "id": "63c8e511",
   "metadata": {},
   "outputs": [],
   "source": [
    "# call peaks using MACS3 (variable is called macs2 but it's really just MACS3)\n",
    "\n",
    "tn5_cut_sites_sorted_file_path <- paste0(macs_outdir, '/', sample, '_Tn5_sites_sorted.tsv')\n",
    "format <- 'BED'\n",
    "effective.genome.size <- '1.87e9'\n",
    "name <- as.character(Project(filtered_pre_macs))\n",
    "\n",
    "\n",
    "cmd <- paste0(\n",
    "macs_path,\n",
    "\" callpeak -t \",\n",
    "tn5_cut_sites_sorted_file_path,\n",
    "\" -g \",\n",
    "as.character(effective.genome.size),\n",
    "\" -f \",\n",
    "format,\n",
    "\" -n \",\n",
    "name,\n",
    "\" --outdir \",\n",
    "paste0(macs_output_peaks_dir, sample),\n",
    "\" \",\n",
    "\"--shift -75 --extsize 150 --nomodel --call-summits --nolambda --keep-dup all -p 0.01\"\n",
    ")\n",
    "\n",
    "\n",
    "cmd"
   ]
  },
  {
   "cell_type": "code",
   "execution_count": null,
   "id": "20acc863",
   "metadata": {},
   "outputs": [],
   "source": [
    "# call MACS\n",
    "verbose <- TRUE\n",
    "\n",
    "system(\n",
    "command = cmd,\n",
    "intern = TRUE,\n",
    "ignore.stderr = !verbose,\n",
    "ignore.stdout = !verbose\n",
    ")\n",
    "\n",
    "\n",
    "print('called peaks')"
   ]
  },
  {
   "cell_type": "markdown",
   "id": "ac33af3d",
   "metadata": {},
   "source": [
    "## Read in called MACS peaks"
   ]
  },
  {
   "cell_type": "code",
   "execution_count": null,
   "id": "f4a17cb0",
   "metadata": {},
   "outputs": [],
   "source": [
    "# read in narrowPeak as GRanges\n",
    "df <- read.table(\n",
    "  file = paste0(macs_output_peaks_dir, sample, \"/\", name, \"_peaks.narrowPeak\"),\n",
    "  col.names = c(\"chr\", \"start\", \"end\", \"name\",\n",
    "                \"score\", \"strand\", \"fold_change\",\n",
    "                \"neg_log10pvalue_summit\", \"neg_log10qvalue_summit\",\n",
    "                \"relative_summit_position\")\n",
    ")\n",
    "\n",
    "peaks <- makeGRangesFromDataFrame(df = df, keep.extra.columns = TRUE, starts.in.df.are.0based = TRUE)"
   ]
  },
  {
   "cell_type": "code",
   "execution_count": null,
   "id": "79633e28",
   "metadata": {},
   "outputs": [],
   "source": [
    "peaks"
   ]
  },
  {
   "cell_type": "code",
   "execution_count": null,
   "id": "0c5298fa",
   "metadata": {},
   "outputs": [],
   "source": [
    "peaks_unique <- unique(peaks)\n",
    "\n",
    "peaks_unique\n",
    "\n",
    "# https://www.biostars.org/p/386553/"
   ]
  },
  {
   "cell_type": "markdown",
   "id": "a5e50ec7",
   "metadata": {},
   "source": [
    "## Post-process MACS peaks and get MACS FeatureMatrix"
   ]
  },
  {
   "cell_type": "code",
   "execution_count": null,
   "id": "6385806d",
   "metadata": {},
   "outputs": [],
   "source": [
    "filtered_pre_macs"
   ]
  },
  {
   "cell_type": "code",
   "execution_count": null,
   "id": "cfcbcbce",
   "metadata": {},
   "outputs": [],
   "source": [
    "DefaultAssay(filtered_pre_macs) <- 'ATAC'\n",
    "\n",
    "# remove peaks on nonstandard chromosomes and in genomic blacklist regions\n",
    "peaks_unique <- keepStandardChromosomes(peaks_unique, pruning.mode = \"coarse\")\n",
    "peaks_unique <- subsetByOverlaps(x = peaks_unique, ranges=blacklist_mm10, invert=TRUE)"
   ]
  },
  {
   "cell_type": "code",
   "execution_count": null,
   "id": "f3ddf6cd",
   "metadata": {},
   "outputs": [],
   "source": [
    "# quantify counts in each peak (using original ATAC fragments.tsv.gz file, but only for filtered barcodes)\n",
    "\n",
    "macs_counts <- FeatureMatrix(\n",
    "  fragments = Fragments(filtered_pre_macs),\n",
    "  features = peaks_unique,\n",
    "  cells = colnames(filtered_pre_macs)\n",
    ")\n",
    "\n",
    "dim(macs_counts)"
   ]
  },
  {
   "cell_type": "markdown",
   "id": "200ffada",
   "metadata": {},
   "source": [
    "## Create new ATAC object containing MACS peaks"
   ]
  },
  {
   "cell_type": "code",
   "execution_count": null,
   "id": "d0b80bde",
   "metadata": {},
   "outputs": [],
   "source": [
    "# check metadata of filtered cells\n",
    "head(filtered_pre_macs@meta.data)\n",
    "dim(filtered_pre_macs@meta.data)"
   ]
  },
  {
   "cell_type": "code",
   "execution_count": null,
   "id": "22ca934f",
   "metadata": {},
   "outputs": [],
   "source": [
    "# create a Seurat object containing the ATAC data\n",
    "filtered <- CreateSeuratObject(\n",
    "    counts = macs_counts,\n",
    "    assay = \"ATAC\",\n",
    "    meta.data = filtered_pre_macs@meta.data\n",
    ")\n",
    "\n",
    "filtered"
   ]
  },
  {
   "cell_type": "code",
   "execution_count": null,
   "id": "9b5396ad",
   "metadata": {},
   "outputs": [],
   "source": [
    "# create ATAC assay and add it to the object\n",
    "filtered[[\"ATAC\"]] <- CreateChromatinAssay(\n",
    "    counts = macs_counts,    \n",
    "    sep = c(\":\", \"-\"),\n",
    "    genome = \"mm10\",\n",
    "    fragments = frag_file,\n",
    "    annotation = annotation\n",
    ")\n",
    "\n",
    "filtered"
   ]
  },
  {
   "cell_type": "markdown",
   "id": "cfc1d200",
   "metadata": {},
   "source": [
    "# The rest of this notebook uses the object \"filtered\", which contain MACS (instead of CellRanger) peaks"
   ]
  },
  {
   "cell_type": "markdown",
   "id": "99704898",
   "metadata": {},
   "source": [
    "# Processing"
   ]
  },
  {
   "cell_type": "markdown",
   "id": "7945c155",
   "metadata": {},
   "source": [
    "## Run SVD"
   ]
  },
  {
   "cell_type": "code",
   "execution_count": null,
   "id": "3b6706c7",
   "metadata": {},
   "outputs": [],
   "source": [
    "DefaultAssay(filtered) <- \"ATAC\"\n",
    "\n",
    "filtered <- FindTopFeatures(filtered, min.cutoff = 5)\n",
    "filtered <- RunTFIDF(filtered)\n",
    "filtered <- RunSVD(filtered)"
   ]
  },
  {
   "cell_type": "code",
   "execution_count": null,
   "id": "e28ed5dd",
   "metadata": {},
   "outputs": [],
   "source": [
    "options(repr.plot.width=10, repr.plot.height=5)\n",
    "DepthCor(filtered)\n",
    "filtered"
   ]
  },
  {
   "cell_type": "markdown",
   "id": "59648c39",
   "metadata": {},
   "source": [
    "## Get ATAC-only UMAP and ATAC clusters"
   ]
  },
  {
   "cell_type": "code",
   "execution_count": null,
   "id": "f27a5de0",
   "metadata": {},
   "outputs": [],
   "source": [
    "filtered <- RunUMAP(\n",
    "  object = filtered,\n",
    "  reduction = 'lsi',\n",
    "  dims = 2:30\n",
    ")\n",
    "\n",
    "filtered"
   ]
  },
  {
   "cell_type": "code",
   "execution_count": null,
   "id": "25c8be48",
   "metadata": {},
   "outputs": [],
   "source": [
    "filtered <- FindNeighbors(\n",
    "  object = filtered,\n",
    "  reduction = 'lsi',\n",
    "  dims = 2:30\n",
    ")\n",
    "\n",
    "filtered"
   ]
  },
  {
   "cell_type": "code",
   "execution_count": null,
   "id": "4b3b75ef",
   "metadata": {},
   "outputs": [],
   "source": [
    "filtered <- FindClusters(\n",
    "  object = filtered,\n",
    "  algorithm = 3,\n",
    "  resolution = 1.2,\n",
    "  verbose = FALSE\n",
    ")\n",
    "\n",
    "filtered"
   ]
  },
  {
   "cell_type": "code",
   "execution_count": null,
   "id": "34f03eea",
   "metadata": {},
   "outputs": [],
   "source": [
    "options(repr.plot.width=5, repr.plot.height=5)\n",
    "\n",
    "DimPlot(object = filtered, label = TRUE) + NoLegend()"
   ]
  },
  {
   "cell_type": "markdown",
   "id": "adca963b",
   "metadata": {},
   "source": [
    "# Save object"
   ]
  },
  {
   "cell_type": "code",
   "execution_count": null,
   "id": "00ade1fe",
   "metadata": {},
   "outputs": [],
   "source": [
    "saveRDS_path_filt <- paste0(save_dir, '/2_filtered_objects/', sample, \".ATAC.filtered.Seurat.v4.rds\")\n",
    "saveRDS(filtered, file = saveRDS_path_filt)\n",
    "\n",
    "print(paste('Saved filtered RDS to:', saveRDS_path_filt))\n",
    "\n",
    "filtered\n",
    "Version(filtered)"
   ]
  },
  {
   "cell_type": "markdown",
   "id": "a0a4fc8e",
   "metadata": {},
   "source": [
    "# END"
   ]
  }
 ],
 "metadata": {
  "kernelspec": {
   "display_name": "R",
   "language": "R",
   "name": "ir"
  },
  "language_info": {
   "codemirror_mode": "r",
   "file_extension": ".r",
   "mimetype": "text/x-r-source",
   "name": "R",
   "pygments_lexer": "r",
   "version": "4.2.0"
  }
 },
 "nbformat": 4,
 "nbformat_minor": 5
}
