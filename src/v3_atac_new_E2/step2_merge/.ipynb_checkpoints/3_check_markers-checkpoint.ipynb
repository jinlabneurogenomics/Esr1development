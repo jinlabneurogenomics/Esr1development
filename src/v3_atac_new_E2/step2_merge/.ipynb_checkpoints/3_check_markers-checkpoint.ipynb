{
 "cells": [
  {
   "cell_type": "markdown",
   "id": "a621ce71",
   "metadata": {},
   "source": [
    "# Sanity check snATAC-seq data\n",
    "- Checking scRNA-seq part same as step1_qc/rna/qc_rna.ipynb"
   ]
  },
  {
   "cell_type": "markdown",
   "id": "27ea3d65",
   "metadata": {},
   "source": [
    "## Set up correct conda environment"
   ]
  },
  {
   "cell_type": "code",
   "execution_count": 1,
   "id": "a6223efa",
   "metadata": {},
   "outputs": [
    {
     "data": {
      "text/html": [
       "'/home/users/xjluo/miniconda3/envs/jupyter_env/lib/R/library'"
      ],
      "text/latex": [
       "'/home/users/xjluo/miniconda3/envs/jupyter\\_env/lib/R/library'"
      ],
      "text/markdown": [
       "'/home/users/xjluo/miniconda3/envs/jupyter_env/lib/R/library'"
      ],
      "text/plain": [
       "[1] \"/home/users/xjluo/miniconda3/envs/jupyter_env/lib/R/library\""
      ]
     },
     "metadata": {},
     "output_type": "display_data"
    }
   ],
   "source": [
    ".libPaths()"
   ]
  },
  {
   "cell_type": "code",
   "execution_count": 2,
   "id": "9851a8e8",
   "metadata": {},
   "outputs": [
    {
     "data": {
      "text/html": [
       "<style>\n",
       ".list-inline {list-style: none; margin:0; padding: 0}\n",
       ".list-inline>li {display: inline-block}\n",
       ".list-inline>li:not(:last-child)::after {content: \"\\00b7\"; padding: 0 .5ex}\n",
       "</style>\n",
       "<ol class=list-inline><li>'/home/groups/tttt/xjluo/miniconda3/envs/single_cell_Seurat_v5/lib/R/library'</li><li>'/home/users/xjluo/miniconda3/envs/jupyter_env/lib/R/library'</li></ol>\n"
      ],
      "text/latex": [
       "\\begin{enumerate*}\n",
       "\\item '/home/groups/tttt/xjluo/miniconda3/envs/single\\_cell\\_Seurat\\_v5/lib/R/library'\n",
       "\\item '/home/users/xjluo/miniconda3/envs/jupyter\\_env/lib/R/library'\n",
       "\\end{enumerate*}\n"
      ],
      "text/markdown": [
       "1. '/home/groups/tttt/xjluo/miniconda3/envs/single_cell_Seurat_v5/lib/R/library'\n",
       "2. '/home/users/xjluo/miniconda3/envs/jupyter_env/lib/R/library'\n",
       "\n",
       "\n"
      ],
      "text/plain": [
       "[1] \"/home/groups/tttt/xjluo/miniconda3/envs/single_cell_Seurat_v5/lib/R/library\"\n",
       "[2] \"/home/users/xjluo/miniconda3/envs/jupyter_env/lib/R/library\"                "
      ]
     },
     "metadata": {},
     "output_type": "display_data"
    }
   ],
   "source": [
    ".libPaths('/home/groups/tttt/xjluo/miniconda3/envs/single_cell_Seurat_v5/lib/R/library')\n",
    ".libPaths()"
   ]
  },
  {
   "cell_type": "code",
   "execution_count": null,
   "id": "f7a20774",
   "metadata": {},
   "outputs": [
    {
     "name": "stderr",
     "output_type": "stream",
     "text": [
      "── \u001b[1mAttaching core tidyverse packages\u001b[22m ──────────────────────── tidyverse 2.0.0 ──\n",
      "\u001b[32m✔\u001b[39m \u001b[34mdplyr    \u001b[39m 1.1.3     \u001b[32m✔\u001b[39m \u001b[34mreadr    \u001b[39m 2.1.5\n",
      "\u001b[32m✔\u001b[39m \u001b[34mforcats  \u001b[39m 1.0.0     \u001b[32m✔\u001b[39m \u001b[34mstringr  \u001b[39m 1.5.1\n",
      "\u001b[32m✔\u001b[39m \u001b[34mggplot2  \u001b[39m 3.4.4     \u001b[32m✔\u001b[39m \u001b[34mtibble   \u001b[39m 3.2.1\n",
      "\u001b[32m✔\u001b[39m \u001b[34mlubridate\u001b[39m 1.9.3     \u001b[32m✔\u001b[39m \u001b[34mtidyr    \u001b[39m 1.3.0\n",
      "\u001b[32m✔\u001b[39m \u001b[34mpurrr    \u001b[39m 1.0.2     \n",
      "── \u001b[1mConflicts\u001b[22m ────────────────────────────────────────── tidyverse_conflicts() ──\n",
      "\u001b[31m✖\u001b[39m \u001b[34mdplyr\u001b[39m::\u001b[32mfilter()\u001b[39m masks \u001b[34mstats\u001b[39m::filter()\n",
      "\u001b[31m✖\u001b[39m \u001b[34mdplyr\u001b[39m::\u001b[32mlag()\u001b[39m    masks \u001b[34mstats\u001b[39m::lag()\n",
      "\u001b[36mℹ\u001b[39m Use the conflicted package (\u001b[3m\u001b[34m<http://conflicted.r-lib.org/>\u001b[39m\u001b[23m) to force all conflicts to become errors\n",
      "Loading required package: viridisLite\n",
      "\n",
      "Loading required package: SeuratObject\n",
      "\n",
      "Loading required package: sp\n",
      "\n",
      "\n",
      "Attaching package: ‘SeuratObject’\n",
      "\n",
      "\n",
      "The following objects are masked from ‘package:base’:\n",
      "\n",
      "    intersect, t\n",
      "\n",
      "\n"
     ]
    }
   ],
   "source": [
    "library(tidyverse)\n",
    "library(viridis)\n",
    "library(Seurat)\n",
    "library(Signac)\n",
    "library(Azimuth)\n",
    "library(EnsDb.Mmusculus.v79)\n",
    "library(BSgenome.Mmusculus.UCSC.mm10)\n",
    "library(ggpointdensity)\n",
    "library(ggExtra)\n",
    "\n",
    "set.seed(1234)\n",
    "options(repr.matrix.max.cols=100, repr.matrix.max.rows=50)\n",
    "options(warn=-1)"
   ]
  },
  {
   "cell_type": "code",
   "execution_count": null,
   "id": "4eb88a48",
   "metadata": {},
   "outputs": [],
   "source": [
    "sample <- 'E2'"
   ]
  },
  {
   "cell_type": "code",
   "execution_count": null,
   "id": "c2fb910e",
   "metadata": {},
   "outputs": [],
   "source": [
    "# value is either 'ALL' or 'GFP' depending on the script\n",
    "all_or_gfp <- 'ALL'"
   ]
  },
  {
   "cell_type": "markdown",
   "id": "ace1f92a",
   "metadata": {},
   "source": [
    "## STEP 0: Paths"
   ]
  },
  {
   "cell_type": "code",
   "execution_count": null,
   "id": "61a35a36",
   "metadata": {},
   "outputs": [],
   "source": [
    "data_master_dir <- '/oak/stanford/groups/tttt/collaboration/jin/240613_ATAC'\n",
    "\n",
    "data_master_dir"
   ]
  },
  {
   "cell_type": "code",
   "execution_count": null,
   "id": "4165b904",
   "metadata": {},
   "outputs": [],
   "source": [
    "rna_path <- paste0(data_master_dir, '/', 'RNA', '/', 'ctx.Robj')\n",
    "\n",
    "rna_path"
   ]
  },
  {
   "cell_type": "code",
   "execution_count": null,
   "id": "1b246780",
   "metadata": {},
   "outputs": [],
   "source": [
    "# save output (labeled) object in this folder\n",
    "merge_savedir <- paste0(data_master_dir, '/xjluo_analysis/step2_merge')\n",
    "\n",
    "merge_savedir\n",
    "\n",
    "atac_path <- paste0(merge_savedir, '/E_V/', \"E2_V_merged.annotated.rds\")\n",
    "\n",
    "atac_path"
   ]
  },
  {
   "cell_type": "markdown",
   "id": "1e86c8ee",
   "metadata": {},
   "source": [
    "## STEP 1: Load data"
   ]
  },
  {
   "cell_type": "code",
   "execution_count": null,
   "id": "b9881254",
   "metadata": {},
   "outputs": [],
   "source": [
    "load(rna_path)\n",
    "\n",
    "# NOTE: the 'v4' in variable names is just for convenience, since this notebook is adapted from a previous ATAC dataset.\n",
    "# Seurat v5 is now used.\n",
    "\n",
    "rna.obj.annotated.Seurat.v4 <- ctx"
   ]
  },
  {
   "cell_type": "code",
   "execution_count": null,
   "id": "d30d88e0",
   "metadata": {},
   "outputs": [],
   "source": [
    "# ATAC\n",
    "\n",
    "atac.obj.annotated.Seurat.v4 <- readRDS(atac_path)\n",
    "\n",
    "atac.obj.annotated.Seurat.v4"
   ]
  },
  {
   "cell_type": "markdown",
   "id": "4b472870",
   "metadata": {},
   "source": [
    "### Inspect objects"
   ]
  },
  {
   "cell_type": "code",
   "execution_count": null,
   "id": "ed14dc11",
   "metadata": {},
   "outputs": [],
   "source": [
    "# RNA\n",
    "options(repr.plot.width=8, repr.plot.height=6)\n",
    "\n",
    "DimPlot(rna.obj.annotated.Seurat.v4, shuffle=TRUE, label = TRUE, repel = TRUE, pt.size=1, label.size=0, reduction = \"umap\", group.by = 'celltype240423', raster=FALSE) + theme(plot.title = element_text(size=40),\n",
    "                                                                                                                                         axis.title = element_text(size=30)\n",
    "                                                                                                                                        )\n",
    "     \n",
    "\n",
    "     \n",
    "     \n"
   ]
  },
  {
   "cell_type": "code",
   "execution_count": null,
   "id": "b9bc8023",
   "metadata": {},
   "outputs": [],
   "source": [
    "# RNA\n",
    "options(repr.plot.width=8, repr.plot.height=6)\n",
    "\n",
    "DimPlot(rna.obj.annotated.Seurat.v4, shuffle=TRUE, label = TRUE, repel = TRUE, pt.size=1, label.size=0, reduction = \"umap\", group.by = 'orig.ident', raster=FALSE) + theme(plot.title = element_text(size=40),\n",
    "                                                                                                                                         axis.title = element_text(size=30)\n",
    "                                                                                                                                        )\n",
    "     \n",
    "\n",
    "     \n",
    "     \n"
   ]
  },
  {
   "cell_type": "code",
   "execution_count": null,
   "id": "79d555b4",
   "metadata": {},
   "outputs": [],
   "source": [
    "# ATAC\n",
    "options(repr.plot.width=6.5, repr.plot.height=3)\n",
    "\n",
    "annotated_ATAC_umap_plot <- DimPlot(atac.obj.annotated.Seurat.v4, \n",
    "                          label = TRUE, \n",
    "                          repel = TRUE, \n",
    "                          pt.size = 1, \n",
    "                          label.size = 0, \n",
    "                          reduction = \"umap\", \n",
    "                          group.by = 'predicted.id') + \n",
    "  theme_void() + # Remove all axes, labels, and titles\n",
    "  theme(\n",
    "    plot.title = element_blank(), # Remove plot title\n",
    "    axis.title = element_blank(), # Remove axis titles\n",
    "    axis.text = element_blank(),  # Remove axis text\n",
    "    axis.ticks = element_blank(), # Remove axis ticks\n",
    "    legend.text = element_text(size = 16) # Increase legend text size\n",
    "  )\n",
    "\n",
    "# Display the plot\n",
    "annotated_ATAC_umap_plot"
   ]
  },
  {
   "cell_type": "markdown",
   "id": "30ad1b50",
   "metadata": {},
   "source": [
    "## STEP 2: Check gene accessibility (snATAC-seq)"
   ]
  },
  {
   "cell_type": "code",
   "execution_count": null,
   "id": "a65a13cc",
   "metadata": {},
   "outputs": [],
   "source": [
    "DefaultAssay(atac.obj.annotated.Seurat.v4) <- 'ATAC'\n",
    "gene.activities.all.genes <- GeneActivity(atac.obj.annotated.Seurat.v4)"
   ]
  },
  {
   "cell_type": "code",
   "execution_count": null,
   "id": "d3e577c9",
   "metadata": {},
   "outputs": [],
   "source": [
    "# add the gene activity matrix to the Seurat object as a new assay and normalize it\n",
    "atac.obj.annotated.Seurat.v4[['RNA_all']] <- CreateAssayObject(counts = gene.activities.all.genes)\n",
    "atac.obj.annotated.Seurat.v4 <- NormalizeData(\n",
    "  object = atac.obj.annotated.Seurat.v4,\n",
    "  assay = 'RNA_all',\n",
    "  normalization.method = 'LogNormalize',\n",
    "  scale.factor = median(atac.obj.annotated.Seurat.v4$nCount_RNA_all)\n",
    ")"
   ]
  },
  {
   "cell_type": "code",
   "execution_count": null,
   "id": "c8657385",
   "metadata": {},
   "outputs": [],
   "source": [
    "options(repr.plot.width=8, repr.plot.height=4)\n",
    "\n",
    "DefaultAssay(atac.obj.annotated.Seurat.v4) <- 'RNA_all'\n",
    "\n",
    "FeaturePlot(\n",
    "  object = atac.obj.annotated.Seurat.v4,\n",
    "  features = c('Esr1', 'Sv2b'),\n",
    "  pt.size = 0.1,\n",
    "  max.cutoff = 'q95',\n",
    "  ncol = 2\n",
    ")"
   ]
  },
  {
   "cell_type": "code",
   "execution_count": null,
   "id": "8cd12076",
   "metadata": {},
   "outputs": [],
   "source": [
    "DefaultAssay(atac.obj.annotated.Seurat.v4) <- 'RNA_all'\n",
    "Idents(atac.obj.annotated.Seurat.v4) <- 'assay'\n",
    "options(repr.plot.width=8, repr.plot.height=4)\n",
    "\n",
    "VlnPlot(\n",
    "  object = atac.obj.annotated.Seurat.v4,\n",
    "  features = c('Esr1'),\n",
    "  pt.size = 0.1,\n",
    "    group.by ='predicted.id',\n",
    "    split.by = 'dataset'\n",
    ") + theme(legend.position=\"none\")"
   ]
  },
  {
   "cell_type": "code",
   "execution_count": null,
   "id": "61cd8e9c",
   "metadata": {},
   "outputs": [],
   "source": [
    "DefaultAssay(atac.obj.annotated.Seurat.v4) <- 'RNA_all'\n",
    "Idents(atac.obj.annotated.Seurat.v4) <- 'assay'\n",
    "options(repr.plot.width=8, repr.plot.height=4)\n",
    "\n",
    "VlnPlot(\n",
    "  object = atac.obj.annotated.Seurat.v4,\n",
    "  features = c('Cux2'),\n",
    "  pt.size = 0.1,\n",
    "    group.by ='predicted.id',\n",
    "    split.by = 'dataset'\n",
    ") + theme(legend.position=\"none\")"
   ]
  },
  {
   "cell_type": "code",
   "execution_count": null,
   "id": "9e8bc033",
   "metadata": {},
   "outputs": [],
   "source": [
    "options(repr.plot.width=8, repr.plot.height=14)\n",
    "\n",
    "DefaultAssay(atac.obj.annotated.Seurat.v4) <- 'RNA_all'\n",
    "\n",
    "FeaturePlot(\n",
    "  object = atac.obj.annotated.Seurat.v4,\n",
    "  features = c(\"Meg3\",\n",
    "              \"Neurod2\",\n",
    "              \"Gad2\",\n",
    "              \"Slc1a3\",\n",
    "              \"Tnc\",\n",
    "              \"Pdgfra\",\n",
    "              \"Enpp6\",\n",
    "              \"Mbp\",\n",
    "              \"Cx3cr1\",\n",
    "              \"Vtn\"\n",
    "              ),\n",
    "  pt.size = 0.1,\n",
    "  max.cutoff = 'q95',\n",
    "  ncol = 2\n",
    ")"
   ]
  },
  {
   "cell_type": "code",
   "execution_count": null,
   "id": "774d615e",
   "metadata": {},
   "outputs": [],
   "source": [
    "DefaultAssay(atac.obj.annotated.Seurat.v4) <- 'RNA_all'\n",
    "Idents(atac.obj.annotated.Seurat.v4) <- 'assay'\n",
    "options(repr.plot.width=8, repr.plot.height=8)\n",
    "\n",
    "VlnPlot(\n",
    "  object = atac.obj.annotated.Seurat.v4,\n",
    "  features = c(\"Meg3\",\n",
    "              \"Neurod2\",\n",
    "              \"Gad2\",\n",
    "              \"Slc1a3\",\n",
    "              \"Tnc\",\n",
    "              \"Pdgfra\",\n",
    "              \"Enpp6\",\n",
    "              \"Mbp\",\n",
    "              \"Cx3cr1\",\n",
    "              \"Vtn\"\n",
    "              ),\n",
    "  pt.size = 0.1\n",
    ") + theme(legend.position=\"none\")\n",
    "\n",
    "\n",
    "# Tan et al., Cell (2021)\n",
    "# https://www.sciencedirect.com/science/article/pii/S0092867420317542"
   ]
  },
  {
   "cell_type": "code",
   "execution_count": null,
   "id": "b272eca5",
   "metadata": {},
   "outputs": [],
   "source": [
    "dim(GetAssayData(atac.obj.annotated.Seurat.v4, assay = 'RNA_all', slot = 'data'))"
   ]
  },
  {
   "cell_type": "markdown",
   "id": "0b582cba",
   "metadata": {},
   "source": [
    "## STEP 2: Check gene expression (scRNA-seq)"
   ]
  },
  {
   "cell_type": "code",
   "execution_count": null,
   "id": "277799be",
   "metadata": {},
   "outputs": [],
   "source": [
    "options(repr.plot.width=6, repr.plot.height=5)\n",
    "DefaultAssay(rna.obj.annotated.Seurat.v4) <- \"RNA\"\n",
    "\n",
    "FeaturePlot(\n",
    "  object = rna.obj.annotated.Seurat.v4,\n",
    "  features = c(\"Esr1\"),\n",
    "  pt.size = 0.2,\n",
    "  label.size = 4,\n",
    "  max.cutoff = 'q95',\n",
    "  ncol = 1,\n",
    "  reduction = \"umap\",\n",
    "  label = TRUE,\n",
    "  raster = FALSE,\n",
    "  order = TRUE\n",
    ")"
   ]
  },
  {
   "cell_type": "code",
   "execution_count": null,
   "id": "13d18af2",
   "metadata": {},
   "outputs": [],
   "source": [
    "options(repr.plot.width=13, repr.plot.height=10)\n",
    "DefaultAssay(rna.obj.annotated.Seurat.v4) <- \"RNA\"\n",
    "\n",
    "FeaturePlot(\n",
    "  object = rna.obj.annotated.Seurat.v4,\n",
    "  features = c(\"Meg3\",\n",
    "              \"Neurod2\",\n",
    "              \"Gad2\",\n",
    "              \"Slc1a3\",\n",
    "              \"Tnc\",\n",
    "              \"Pdgfra\",\n",
    "              \"Enpp6\",\n",
    "              \"Mbp\",\n",
    "              \"Cx3cr1\",\n",
    "              \"Vtn\"\n",
    "              ),\n",
    "  pt.size = 0.2,\n",
    "  label.size = 0,\n",
    "  max.cutoff = 'q95',\n",
    "  ncol = 3,\n",
    "  reduction = \"umap\",\n",
    "  label = TRUE,\n",
    "  raster = FALSE,\n",
    "  order = TRUE\n",
    ")\n",
    "\n",
    "\n",
    "# Tan et al., Cell (2021)\n",
    "# https://www.sciencedirect.com/science/article/pii/S0092867420317542"
   ]
  },
  {
   "cell_type": "code",
   "execution_count": null,
   "id": "b0456695",
   "metadata": {},
   "outputs": [],
   "source": [
    "options(repr.plot.width=13, repr.plot.height=10)\n",
    "DefaultAssay(rna.obj.annotated.Seurat.v4) <- \"RNA\"\n",
    "\n",
    "VlnPlot(rna.obj.annotated.Seurat.v4, features = c(\"Meg3\",\n",
    "              \"Neurod2\",\n",
    "              \"Gad2\",\n",
    "              \"Slc1a3\",\n",
    "              \"Tnc\",\n",
    "              \"Pdgfra\",\n",
    "              \"Enpp6\",\n",
    "              \"Mbp\",\n",
    "              \"Cx3cr1\",\n",
    "              \"Vtn\"\n",
    "              ))"
   ]
  },
  {
   "cell_type": "markdown",
   "id": "08b9604a",
   "metadata": {},
   "source": [
    "# END"
   ]
  }
 ],
 "metadata": {
  "kernelspec": {
   "display_name": "R",
   "language": "R",
   "name": "ir"
  },
  "language_info": {
   "codemirror_mode": "r",
   "file_extension": ".r",
   "mimetype": "text/x-r-source",
   "name": "R",
   "pygments_lexer": "r",
   "version": "4.3.3"
  }
 },
 "nbformat": 4,
 "nbformat_minor": 5
}
