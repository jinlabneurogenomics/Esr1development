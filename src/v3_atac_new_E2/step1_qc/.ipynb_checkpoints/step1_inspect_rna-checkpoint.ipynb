{
 "cells": [
  {
   "cell_type": "markdown",
   "id": "d0f092cf",
   "metadata": {},
   "source": [
    "# Check RNA data"
   ]
  },
  {
   "cell_type": "markdown",
   "id": "b4a9af62",
   "metadata": {},
   "source": [
    "## Set up correct conda environment\n"
   ]
  },
  {
   "cell_type": "code",
   "execution_count": 2,
   "id": "ff5d6b96",
   "metadata": {},
   "outputs": [
    {
     "data": {
      "text/html": [
       "'/home/users/xjluo/miniconda3/envs/jupyter_env/lib/R/library'"
      ],
      "text/latex": [
       "'/home/users/xjluo/miniconda3/envs/jupyter\\_env/lib/R/library'"
      ],
      "text/markdown": [
       "'/home/users/xjluo/miniconda3/envs/jupyter_env/lib/R/library'"
      ],
      "text/plain": [
       "[1] \"/home/users/xjluo/miniconda3/envs/jupyter_env/lib/R/library\""
      ]
     },
     "metadata": {},
     "output_type": "display_data"
    }
   ],
   "source": [
    ".libPaths()"
   ]
  },
  {
   "cell_type": "code",
   "execution_count": 3,
   "id": "0d97e32d",
   "metadata": {},
   "outputs": [
    {
     "data": {
      "text/html": [
       "<style>\n",
       ".list-inline {list-style: none; margin:0; padding: 0}\n",
       ".list-inline>li {display: inline-block}\n",
       ".list-inline>li:not(:last-child)::after {content: \"\\00b7\"; padding: 0 .5ex}\n",
       "</style>\n",
       "<ol class=list-inline><li>'/home/groups/tttt/xjluo/miniconda3/envs/single_cell/lib/R/library'</li><li>'/home/users/xjluo/miniconda3/envs/jupyter_env/lib/R/library'</li></ol>\n"
      ],
      "text/latex": [
       "\\begin{enumerate*}\n",
       "\\item '/home/groups/tttt/xjluo/miniconda3/envs/single\\_cell/lib/R/library'\n",
       "\\item '/home/users/xjluo/miniconda3/envs/jupyter\\_env/lib/R/library'\n",
       "\\end{enumerate*}\n"
      ],
      "text/markdown": [
       "1. '/home/groups/tttt/xjluo/miniconda3/envs/single_cell/lib/R/library'\n",
       "2. '/home/users/xjluo/miniconda3/envs/jupyter_env/lib/R/library'\n",
       "\n",
       "\n"
      ],
      "text/plain": [
       "[1] \"/home/groups/tttt/xjluo/miniconda3/envs/single_cell/lib/R/library\"\n",
       "[2] \"/home/users/xjluo/miniconda3/envs/jupyter_env/lib/R/library\"      "
      ]
     },
     "metadata": {},
     "output_type": "display_data"
    }
   ],
   "source": [
    ".libPaths('/home/groups/tttt/xjluo/miniconda3/envs/single_cell/lib/R/library')\n",
    ".libPaths()"
   ]
  },
  {
   "cell_type": "markdown",
   "id": "45d26995",
   "metadata": {},
   "source": [
    "## Load packages"
   ]
  },
  {
   "cell_type": "code",
   "execution_count": 4,
   "id": "33d6c759",
   "metadata": {},
   "outputs": [
    {
     "name": "stderr",
     "output_type": "stream",
     "text": [
      "── \u001b[1mAttaching core tidyverse packages\u001b[22m ──────────────────────── tidyverse 2.0.0 ──\n",
      "\u001b[32m✔\u001b[39m \u001b[34mdplyr    \u001b[39m 1.1.3     \u001b[32m✔\u001b[39m \u001b[34mreadr    \u001b[39m 2.1.4\n",
      "\u001b[32m✔\u001b[39m \u001b[34mforcats  \u001b[39m 1.0.0     \u001b[32m✔\u001b[39m \u001b[34mstringr  \u001b[39m 1.5.0\n",
      "\u001b[32m✔\u001b[39m \u001b[34mggplot2  \u001b[39m 3.4.4     \u001b[32m✔\u001b[39m \u001b[34mtibble   \u001b[39m 3.2.1\n",
      "\u001b[32m✔\u001b[39m \u001b[34mlubridate\u001b[39m 1.9.3     \u001b[32m✔\u001b[39m \u001b[34mtidyr    \u001b[39m 1.3.0\n",
      "\u001b[32m✔\u001b[39m \u001b[34mpurrr    \u001b[39m 1.0.2     \n",
      "── \u001b[1mConflicts\u001b[22m ────────────────────────────────────────── tidyverse_conflicts() ──\n",
      "\u001b[31m✖\u001b[39m \u001b[34mdplyr\u001b[39m::\u001b[32mfilter()\u001b[39m masks \u001b[34mstats\u001b[39m::filter()\n",
      "\u001b[31m✖\u001b[39m \u001b[34mdplyr\u001b[39m::\u001b[32mlag()\u001b[39m    masks \u001b[34mstats\u001b[39m::lag()\n",
      "\u001b[36mℹ\u001b[39m Use the conflicted package (\u001b[3m\u001b[34m<http://conflicted.r-lib.org/>\u001b[39m\u001b[23m) to force all conflicts to become errors\n",
      "Loading required package: viridisLite\n",
      "\n",
      "The legacy packages maptools, rgdal, and rgeos, underpinning the sp package,\n",
      "which was just loaded, were retired in October 2023.\n",
      "Please refer to R-spatial evolution reports for details, especially\n",
      "https://r-spatial.org/r/2023/05/15/evolution4.html.\n",
      "It may be desirable to make the sf package available;\n",
      "package maintainers should consider adding sf to Suggests:.\n",
      "\n",
      "Attaching SeuratObject\n",
      "\n",
      "Registered S3 method overwritten by 'SeuratDisk':\n",
      "  method            from  \n",
      "  as.sparse.H5Group Seurat\n",
      "\n",
      "Attaching shinyBS\n",
      "\n",
      "Loading required package: ensembldb\n",
      "\n",
      "Loading required package: BiocGenerics\n",
      "\n",
      "\n",
      "Attaching package: ‘BiocGenerics’\n",
      "\n",
      "\n",
      "The following objects are masked from ‘package:lubridate’:\n",
      "\n",
      "    intersect, setdiff, union\n",
      "\n",
      "\n",
      "The following objects are masked from ‘package:dplyr’:\n",
      "\n",
      "    combine, intersect, setdiff, union\n",
      "\n",
      "\n",
      "The following objects are masked from ‘package:stats’:\n",
      "\n",
      "    IQR, mad, sd, var, xtabs\n",
      "\n",
      "\n",
      "The following objects are masked from ‘package:base’:\n",
      "\n",
      "    anyDuplicated, aperm, append, as.data.frame, basename, cbind,\n",
      "    colnames, dirname, do.call, duplicated, eval, evalq, Filter, Find,\n",
      "    get, grep, grepl, intersect, is.unsorted, lapply, Map, mapply,\n",
      "    match, mget, order, paste, pmax, pmax.int, pmin, pmin.int,\n",
      "    Position, rank, rbind, Reduce, rownames, sapply, setdiff, sort,\n",
      "    table, tapply, union, unique, unsplit, which.max, which.min\n",
      "\n",
      "\n",
      "Loading required package: GenomicRanges\n",
      "\n",
      "Loading required package: stats4\n",
      "\n",
      "Loading required package: S4Vectors\n",
      "\n",
      "\n",
      "Attaching package: ‘S4Vectors’\n",
      "\n",
      "\n",
      "The following objects are masked from ‘package:lubridate’:\n",
      "\n",
      "    second, second<-\n",
      "\n",
      "\n",
      "The following objects are masked from ‘package:dplyr’:\n",
      "\n",
      "    first, rename\n",
      "\n",
      "\n",
      "The following object is masked from ‘package:tidyr’:\n",
      "\n",
      "    expand\n",
      "\n",
      "\n",
      "The following objects are masked from ‘package:base’:\n",
      "\n",
      "    expand.grid, I, unname\n",
      "\n",
      "\n",
      "Loading required package: IRanges\n",
      "\n",
      "\n",
      "Attaching package: ‘IRanges’\n",
      "\n",
      "\n",
      "The following object is masked from ‘package:lubridate’:\n",
      "\n",
      "    %within%\n",
      "\n",
      "\n",
      "The following objects are masked from ‘package:dplyr’:\n",
      "\n",
      "    collapse, desc, slice\n",
      "\n",
      "\n",
      "The following object is masked from ‘package:purrr’:\n",
      "\n",
      "    reduce\n",
      "\n",
      "\n",
      "Loading required package: GenomeInfoDb\n",
      "\n",
      "Loading required package: GenomicFeatures\n",
      "\n",
      "Loading required package: AnnotationDbi\n",
      "\n",
      "Loading required package: Biobase\n",
      "\n",
      "Welcome to Bioconductor\n",
      "\n",
      "    Vignettes contain introductory material; view with\n",
      "    'browseVignettes()'. To cite Bioconductor, see\n",
      "    'citation(\"Biobase\")', and for packages 'citation(\"pkgname\")'.\n",
      "\n",
      "\n",
      "\n",
      "Attaching package: ‘AnnotationDbi’\n",
      "\n",
      "\n",
      "The following object is masked from ‘package:dplyr’:\n",
      "\n",
      "    select\n",
      "\n",
      "\n",
      "Loading required package: AnnotationFilter\n",
      "\n",
      "\n",
      "Attaching package: 'ensembldb'\n",
      "\n",
      "\n",
      "The following object is masked from 'package:dplyr':\n",
      "\n",
      "    filter\n",
      "\n",
      "\n",
      "The following object is masked from 'package:stats':\n",
      "\n",
      "    filter\n",
      "\n",
      "\n",
      "Loading required package: BSgenome\n",
      "\n",
      "Loading required package: Biostrings\n",
      "\n",
      "Loading required package: XVector\n",
      "\n",
      "\n",
      "Attaching package: 'XVector'\n",
      "\n",
      "\n",
      "The following object is masked from 'package:purrr':\n",
      "\n",
      "    compact\n",
      "\n",
      "\n",
      "\n",
      "Attaching package: 'Biostrings'\n",
      "\n",
      "\n",
      "The following object is masked from 'package:base':\n",
      "\n",
      "    strsplit\n",
      "\n",
      "\n",
      "Loading required package: rtracklayer\n",
      "\n"
     ]
    }
   ],
   "source": [
    "library(tidyverse)\n",
    "library(viridis)\n",
    "library(Seurat)\n",
    "library(Signac)\n",
    "library(Azimuth)\n",
    "library(EnsDb.Mmusculus.v79)\n",
    "library(BSgenome.Mmusculus.UCSC.mm10)\n",
    "library(ggpointdensity)\n",
    "library(ggExtra)\n",
    "\n",
    "set.seed(1234)\n",
    "options(repr.matrix.max.cols=100, repr.matrix.max.rows=50)\n",
    "options(warn=-1)"
   ]
  },
  {
   "cell_type": "code",
   "execution_count": 5,
   "id": "24643504",
   "metadata": {},
   "outputs": [
    {
     "data": {
      "text/plain": [
       "R version 4.2.0 (2022-04-22)\n",
       "Platform: x86_64-conda-linux-gnu (64-bit)\n",
       "Running under: CentOS Linux 7 (Core)\n",
       "\n",
       "Matrix products: default\n",
       "BLAS/LAPACK: /home/users/xjluo/miniconda3/envs/jupyter_env/lib/libopenblasp-r0.3.21.so\n",
       "\n",
       "locale:\n",
       " [1] LC_CTYPE=en_US.UTF-8       LC_NUMERIC=C              \n",
       " [3] LC_TIME=en_US.UTF-8        LC_COLLATE=en_US.UTF-8    \n",
       " [5] LC_MONETARY=en_US.UTF-8    LC_MESSAGES=en_US.UTF-8   \n",
       " [7] LC_PAPER=en_US.UTF-8       LC_NAME=C                 \n",
       " [9] LC_ADDRESS=C               LC_TELEPHONE=C            \n",
       "[11] LC_MEASUREMENT=en_US.UTF-8 LC_IDENTIFICATION=C       \n",
       "\n",
       "attached base packages:\n",
       "[1] stats4    stats     graphics  grDevices utils     datasets  methods  \n",
       "[8] base     \n",
       "\n",
       "other attached packages:\n",
       " [1] ggExtra_0.10.1                     ggpointdensity_0.1.0              \n",
       " [3] BSgenome.Mmusculus.UCSC.mm10_1.4.3 BSgenome_1.66.3                   \n",
       " [5] rtracklayer_1.58.0                 Biostrings_2.66.0                 \n",
       " [7] XVector_0.38.0                     EnsDb.Mmusculus.v79_2.99.0        \n",
       " [9] ensembldb_2.22.0                   AnnotationFilter_1.22.0           \n",
       "[11] GenomicFeatures_1.50.4             AnnotationDbi_1.60.2              \n",
       "[13] Biobase_2.58.0                     GenomicRanges_1.50.2              \n",
       "[15] GenomeInfoDb_1.34.9                IRanges_2.32.0                    \n",
       "[17] S4Vectors_0.36.2                   BiocGenerics_0.44.0               \n",
       "[19] Azimuth_0.4.6                      shinyBS_0.61.1                    \n",
       "[21] Signac_1.9.0                       SeuratObject_4.1.4                \n",
       "[23] Seurat_4.3.0                       viridis_0.6.4                     \n",
       "[25] viridisLite_0.4.2                  lubridate_1.9.3                   \n",
       "[27] forcats_1.0.0                      stringr_1.5.0                     \n",
       "[29] dplyr_1.1.3                        purrr_1.0.2                       \n",
       "[31] readr_2.1.4                        tidyr_1.3.0                       \n",
       "[33] tibble_3.2.1                       ggplot2_3.4.4                     \n",
       "[35] tidyverse_2.0.0                   \n",
       "\n",
       "loaded via a namespace (and not attached):\n",
       "  [1] utf8_1.2.3                  shinydashboard_0.7.2       \n",
       "  [3] spatstat.explore_3.2-3      reticulate_1.32.0          \n",
       "  [5] tidyselect_1.2.0            RSQLite_2.3.1              \n",
       "  [7] htmlwidgets_1.6.2           grid_4.2.0                 \n",
       "  [9] BiocParallel_1.32.6         Rtsne_0.16                 \n",
       " [11] munsell_0.5.0               codetools_0.2-19           \n",
       " [13] ica_1.0-3                   DT_0.30                    \n",
       " [15] pbdZMQ_0.3-10               future_1.33.0              \n",
       " [17] miniUI_0.1.1.1              withr_2.5.1                \n",
       " [19] spatstat.random_3.1-6       colorspace_2.1-0           \n",
       " [21] progressr_0.14.0            filelock_1.0.2             \n",
       " [23] uuid_1.1-1                  ROCR_1.0-11                \n",
       " [25] tensor_1.5                  listenv_0.9.0              \n",
       " [27] MatrixGenerics_1.10.0       repr_1.1.6                 \n",
       " [29] GenomeInfoDbData_1.2.9      polyclip_1.10-6            \n",
       " [31] bit64_4.0.5                 parallelly_1.36.0          \n",
       " [33] vctrs_0.6.4                 generics_0.1.3             \n",
       " [35] BiocFileCache_2.6.1         timechange_0.2.0           \n",
       " [37] R6_2.5.1                    hdf5r_1.3.8                \n",
       " [39] DelayedArray_0.24.0         bitops_1.0-7               \n",
       " [41] spatstat.utils_3.0-3        cachem_1.0.8               \n",
       " [43] BiocIO_1.8.0                promises_1.2.1             \n",
       " [45] scales_1.2.1                googlesheets4_1.1.1        \n",
       " [47] gtable_0.3.4                globals_0.16.2             \n",
       " [49] goftest_1.2-3               rlang_1.1.1                \n",
       " [51] RcppRoll_0.3.0              splines_4.2.0              \n",
       " [53] lazyeval_0.2.2              gargle_1.5.2               \n",
       " [55] spatstat.geom_3.2-5         yaml_2.3.7                 \n",
       " [57] reshape2_1.4.4              abind_1.4-5                \n",
       " [59] httpuv_1.6.11               SeuratDisk_0.0.0.9020      \n",
       " [61] tools_4.2.0                 SeuratData_0.2.2           \n",
       " [63] ellipsis_0.3.2              RColorBrewer_1.1-3         \n",
       " [65] ggridges_0.5.4              Rcpp_1.0.11                \n",
       " [67] plyr_1.8.9                  base64enc_0.1-3            \n",
       " [69] progress_1.2.2              zlibbioc_1.44.0            \n",
       " [71] RCurl_1.98-1.12             prettyunits_1.2.0          \n",
       " [73] deldir_1.0-9                pbapply_1.7-2              \n",
       " [75] cowplot_1.1.1               zoo_1.8-12                 \n",
       " [77] SummarizedExperiment_1.28.0 ggrepel_0.9.4              \n",
       " [79] cluster_2.1.4               fs_1.6.3                   \n",
       " [81] magrittr_2.0.3              data.table_1.14.8          \n",
       " [83] scattermore_1.2             lmtest_0.9-40              \n",
       " [85] RANN_2.6.1                  googledrive_2.1.1          \n",
       " [87] ProtGenerics_1.30.0         fitdistrplus_1.1-11        \n",
       " [89] matrixStats_1.0.0           hms_1.1.3                  \n",
       " [91] patchwork_1.1.3             shinyjs_2.1.0              \n",
       " [93] mime_0.12                   evaluate_0.22              \n",
       " [95] xtable_1.8-4                XML_3.99-0.14              \n",
       " [97] gridExtra_2.3               compiler_4.2.0             \n",
       " [99] biomaRt_2.54.1              KernSmooth_2.23-22         \n",
       "[101] crayon_1.5.2                htmltools_0.5.6.1          \n",
       "[103] later_1.3.1                 tzdb_0.4.0                 \n",
       "[105] DBI_1.1.3                   dbplyr_2.3.4               \n",
       "[107] MASS_7.3-60                 rappdirs_0.3.3             \n",
       "[109] Matrix_1.6-1.1              cli_3.6.1                  \n",
       "[111] parallel_4.2.0              igraph_1.4.2               \n",
       "[113] pkgconfig_2.0.3             GenomicAlignments_1.34.1   \n",
       "[115] sp_2.1-0                    IRdisplay_1.1              \n",
       "[117] plotly_4.10.2               spatstat.sparse_3.0-2      \n",
       "[119] xml2_1.3.4                  digest_0.6.33              \n",
       "[121] sctransform_0.3.5           RcppAnnoy_0.0.21           \n",
       "[123] spatstat.data_3.0-1         cellranger_1.1.0           \n",
       "[125] leiden_0.4.3                fastmatch_1.1-4            \n",
       "[127] uwot_0.1.16                 restfulr_0.0.15            \n",
       "[129] curl_5.1.0                  shiny_1.7.5                \n",
       "[131] Rsamtools_2.14.0            rjson_0.2.21               \n",
       "[133] lifecycle_1.0.3             nlme_3.1-163               \n",
       "[135] jsonlite_1.8.7              fansi_1.0.5                \n",
       "[137] pillar_1.9.0                lattice_0.21-9             \n",
       "[139] KEGGREST_1.38.0             fastmap_1.1.1              \n",
       "[141] httr_1.4.7                  survival_3.5-7             \n",
       "[143] glue_1.6.2                  png_0.1-8                  \n",
       "[145] bit_4.0.5                   presto_1.0.0               \n",
       "[147] stringi_1.7.6               blob_1.2.4                 \n",
       "[149] memoise_2.0.1               IRkernel_1.3.2             \n",
       "[151] irlba_2.3.5.1               future.apply_1.11.0        "
      ]
     },
     "metadata": {},
     "output_type": "display_data"
    }
   ],
   "source": [
    "sessionInfo()"
   ]
  },
  {
   "cell_type": "markdown",
   "id": "815790e3",
   "metadata": {},
   "source": [
    "## Paths"
   ]
  },
  {
   "cell_type": "code",
   "execution_count": 6,
   "id": "8cc15c65",
   "metadata": {},
   "outputs": [
    {
     "data": {
      "text/html": [
       "'/oak/stanford/groups/tttt/collaboration/jin/231220_ATAC/cellranger/ctx_v6.Robj'"
      ],
      "text/latex": [
       "'/oak/stanford/groups/tttt/collaboration/jin/231220\\_ATAC/cellranger/ctx\\_v6.Robj'"
      ],
      "text/markdown": [
       "'/oak/stanford/groups/tttt/collaboration/jin/231220_ATAC/cellranger/ctx_v6.Robj'"
      ],
      "text/plain": [
       "[1] \"/oak/stanford/groups/tttt/collaboration/jin/231220_ATAC/cellranger/ctx_v6.Robj\""
      ]
     },
     "metadata": {},
     "output_type": "display_data"
    }
   ],
   "source": [
    "rna_all_obj_path <- '/oak/stanford/groups/tttt/collaboration/jin/231220_ATAC/cellranger/ctx_v6.Robj'\n",
    "\n",
    "rna_all_obj_path"
   ]
  },
  {
   "cell_type": "markdown",
   "id": "f9eb42a3",
   "metadata": {},
   "source": [
    "## Load object and check contents"
   ]
  },
  {
   "cell_type": "code",
   "execution_count": 25,
   "id": "c04419e5",
   "metadata": {},
   "outputs": [],
   "source": [
    "load(rna_all_obj_path)"
   ]
  },
  {
   "cell_type": "code",
   "execution_count": 57,
   "id": "f768602b",
   "metadata": {},
   "outputs": [
    {
     "data": {
      "text/plain": [
       "[1] '5.0.1'"
      ]
     },
     "metadata": {},
     "output_type": "display_data"
    }
   ],
   "source": [
    "# check version\n",
    "# https://rdrr.io/github/mojaveazure/seurat-object/man/Version.html\n",
    "Version(ctx)"
   ]
  },
  {
   "cell_type": "code",
   "execution_count": 29,
   "id": "ccf82f3b",
   "metadata": {},
   "outputs": [
    {
     "data": {
      "text/html": [
       "<style>\n",
       ".list-inline {list-style: none; margin:0; padding: 0}\n",
       ".list-inline>li {display: inline-block}\n",
       ".list-inline>li:not(:last-child)::after {content: \"\\00b7\"; padding: 0 .5ex}\n",
       "</style>\n",
       "<ol class=list-inline><li>'ADT'</li><li>'prediction.score.class'</li><li>'prediction.score.cluster'</li><li>'prediction.score.subclass'</li><li>'prediction.score.cross_species_cluster'</li></ol>\n"
      ],
      "text/latex": [
       "\\begin{enumerate*}\n",
       "\\item 'ADT'\n",
       "\\item 'prediction.score.class'\n",
       "\\item 'prediction.score.cluster'\n",
       "\\item 'prediction.score.subclass'\n",
       "\\item 'prediction.score.cross\\_species\\_cluster'\n",
       "\\end{enumerate*}\n"
      ],
      "text/markdown": [
       "1. 'ADT'\n",
       "2. 'prediction.score.class'\n",
       "3. 'prediction.score.cluster'\n",
       "4. 'prediction.score.subclass'\n",
       "5. 'prediction.score.cross_species_cluster'\n",
       "\n",
       "\n"
      ],
      "text/plain": [
       "[1] \"ADT\"                                   \n",
       "[2] \"prediction.score.class\"                \n",
       "[3] \"prediction.score.cluster\"              \n",
       "[4] \"prediction.score.subclass\"             \n",
       "[5] \"prediction.score.cross_species_cluster\""
      ]
     },
     "metadata": {},
     "output_type": "display_data"
    }
   ],
   "source": [
    "Assays(ctx)"
   ]
  },
  {
   "cell_type": "code",
   "execution_count": 37,
   "id": "bef2cdbb",
   "metadata": {},
   "outputs": [
    {
     "data": {
      "text/html": [
       "<style>\n",
       ".list-inline {list-style: none; margin:0; padding: 0}\n",
       ".list-inline>li {display: inline-block}\n",
       ".list-inline>li:not(:last-child)::after {content: \"\\00b7\"; padding: 0 .5ex}\n",
       "</style>\n",
       "<ol class=list-inline><li>'integrated_dr'</li><li>'ref.umap'</li><li>'pca'</li><li>'umap.unintegrated'</li><li>'integrated.rpca'</li><li>'umap'</li></ol>\n"
      ],
      "text/latex": [
       "\\begin{enumerate*}\n",
       "\\item 'integrated\\_dr'\n",
       "\\item 'ref.umap'\n",
       "\\item 'pca'\n",
       "\\item 'umap.unintegrated'\n",
       "\\item 'integrated.rpca'\n",
       "\\item 'umap'\n",
       "\\end{enumerate*}\n"
      ],
      "text/markdown": [
       "1. 'integrated_dr'\n",
       "2. 'ref.umap'\n",
       "3. 'pca'\n",
       "4. 'umap.unintegrated'\n",
       "5. 'integrated.rpca'\n",
       "6. 'umap'\n",
       "\n",
       "\n"
      ],
      "text/plain": [
       "[1] \"integrated_dr\"     \"ref.umap\"          \"pca\"              \n",
       "[4] \"umap.unintegrated\" \"integrated.rpca\"   \"umap\"             "
      ]
     },
     "metadata": {},
     "output_type": "display_data"
    }
   ],
   "source": [
    "Reductions(ctx)"
   ]
  },
  {
   "cell_type": "code",
   "execution_count": 64,
   "id": "78cf4a24",
   "metadata": {},
   "outputs": [
    {
     "data": {
      "text/html": [
       "<table class=\"dataframe\">\n",
       "<caption>A matrix: 6 × 2 of type dbl</caption>\n",
       "<thead>\n",
       "\t<tr><th></th><th scope=col>umap_1</th><th scope=col>umap_2</th></tr>\n",
       "</thead>\n",
       "<tbody>\n",
       "\t<tr><th scope=row>all_all_AAACCCAAGGCGTCCT-1</th><td>-3.750181</td><td> 2.496419</td></tr>\n",
       "\t<tr><th scope=row>all_all_AAACCCACAAATGCGG-1</th><td> 1.888199</td><td> 6.382246</td></tr>\n",
       "\t<tr><th scope=row>all_all_AAACGAAAGAAATGGG-1</th><td> 4.652157</td><td> 4.403163</td></tr>\n",
       "\t<tr><th scope=row>all_all_AAACGAAAGGAATTAC-1</th><td> 8.100215</td><td>15.163244</td></tr>\n",
       "\t<tr><th scope=row>all_all_AAACGAAGTCGTCATA-1</th><td> 2.598432</td><td> 2.513820</td></tr>\n",
       "\t<tr><th scope=row>all_all_AAACGAATCGTGGAAG-1</th><td>-2.673557</td><td>11.594522</td></tr>\n",
       "</tbody>\n",
       "</table>\n"
      ],
      "text/latex": [
       "A matrix: 6 × 2 of type dbl\n",
       "\\begin{tabular}{r|ll}\n",
       "  & umap\\_1 & umap\\_2\\\\\n",
       "\\hline\n",
       "\tall\\_all\\_AAACCCAAGGCGTCCT-1 & -3.750181 &  2.496419\\\\\n",
       "\tall\\_all\\_AAACCCACAAATGCGG-1 &  1.888199 &  6.382246\\\\\n",
       "\tall\\_all\\_AAACGAAAGAAATGGG-1 &  4.652157 &  4.403163\\\\\n",
       "\tall\\_all\\_AAACGAAAGGAATTAC-1 &  8.100215 & 15.163244\\\\\n",
       "\tall\\_all\\_AAACGAAGTCGTCATA-1 &  2.598432 &  2.513820\\\\\n",
       "\tall\\_all\\_AAACGAATCGTGGAAG-1 & -2.673557 & 11.594522\\\\\n",
       "\\end{tabular}\n"
      ],
      "text/markdown": [
       "\n",
       "A matrix: 6 × 2 of type dbl\n",
       "\n",
       "| <!--/--> | umap_1 | umap_2 |\n",
       "|---|---|---|\n",
       "| all_all_AAACCCAAGGCGTCCT-1 | -3.750181 |  2.496419 |\n",
       "| all_all_AAACCCACAAATGCGG-1 |  1.888199 |  6.382246 |\n",
       "| all_all_AAACGAAAGAAATGGG-1 |  4.652157 |  4.403163 |\n",
       "| all_all_AAACGAAAGGAATTAC-1 |  8.100215 | 15.163244 |\n",
       "| all_all_AAACGAAGTCGTCATA-1 |  2.598432 |  2.513820 |\n",
       "| all_all_AAACGAATCGTGGAAG-1 | -2.673557 | 11.594522 |\n",
       "\n"
      ],
      "text/plain": [
       "                           umap_1    umap_2   \n",
       "all_all_AAACCCAAGGCGTCCT-1 -3.750181  2.496419\n",
       "all_all_AAACCCACAAATGCGG-1  1.888199  6.382246\n",
       "all_all_AAACGAAAGAAATGGG-1  4.652157  4.403163\n",
       "all_all_AAACGAAAGGAATTAC-1  8.100215 15.163244\n",
       "all_all_AAACGAAGTCGTCATA-1  2.598432  2.513820\n",
       "all_all_AAACGAATCGTGGAAG-1 -2.673557 11.594522"
      ]
     },
     "metadata": {},
     "output_type": "display_data"
    }
   ],
   "source": [
    "head(Embeddings(ctx, reduction = 'umap'))"
   ]
  },
  {
   "cell_type": "code",
   "execution_count": 35,
   "id": "cad04a6e",
   "metadata": {},
   "outputs": [
    {
     "data": {
      "text/html": [
       "<table class=\"dataframe\">\n",
       "<caption>A data.frame: 6 × 20</caption>\n",
       "<thead>\n",
       "\t<tr><th></th><th scope=col>orig.ident</th><th scope=col>nCount_RNA</th><th scope=col>nFeature_RNA</th><th scope=col>percent.mt</th><th scope=col>nCount_ADT</th><th scope=col>nFeature_ADT</th><th scope=col>predicted.class.score</th><th scope=col>predicted.class</th><th scope=col>predicted.cluster.score</th><th scope=col>predicted.cluster</th><th scope=col>predicted.subclass.score</th><th scope=col>predicted.subclass</th><th scope=col>predicted.cross_species_cluster.score</th><th scope=col>predicted.cross_species_cluster</th><th scope=col>mapping.score</th><th scope=col>unintegrated_clusters</th><th scope=col>seurat_clusters</th><th scope=col>RNA_snn_res.0.2</th><th scope=col>RNA_snn_res.0.3</th><th scope=col>celltype231225</th></tr>\n",
       "\t<tr><th></th><th scope=col>&lt;chr&gt;</th><th scope=col>&lt;dbl&gt;</th><th scope=col>&lt;int&gt;</th><th scope=col>&lt;dbl&gt;</th><th scope=col>&lt;dbl&gt;</th><th scope=col>&lt;int&gt;</th><th scope=col>&lt;dbl&gt;</th><th scope=col>&lt;chr&gt;</th><th scope=col>&lt;dbl&gt;</th><th scope=col>&lt;chr&gt;</th><th scope=col>&lt;dbl&gt;</th><th scope=col>&lt;chr&gt;</th><th scope=col>&lt;dbl&gt;</th><th scope=col>&lt;chr&gt;</th><th scope=col>&lt;dbl&gt;</th><th scope=col>&lt;fct&gt;</th><th scope=col>&lt;fct&gt;</th><th scope=col>&lt;fct&gt;</th><th scope=col>&lt;fct&gt;</th><th scope=col>&lt;fct&gt;</th></tr>\n",
       "</thead>\n",
       "<tbody>\n",
       "\t<tr><th scope=row>all_all_AAACCCAAGGCGTCCT-1</th><td>all</td><td>18153</td><td>5343</td><td>0.4682422</td><td>0</td><td>0</td><td>0.9961201</td><td>GABAergic    </td><td>0.5546434</td><td>Meis2        </td><td>0.6250212</td><td>Meis2</td><td>0.6250212</td><td>exclude</td><td>0.7343192</td><td>5</td><td>7</td><td>5</td><td>7</td><td>IN 1     </td></tr>\n",
       "\t<tr><th scope=row>all_all_AAACCCACAAATGCGG-1</th><td>all</td><td>10326</td><td>3617</td><td>2.0821228</td><td>1</td><td>1</td><td>0.9522385</td><td>Glutamatergic</td><td>0.2832151</td><td>L5 IT Rspo1_1</td><td>0.4328459</td><td>L6 IT</td><td>0.2899276</td><td>L5 IT_1</td><td>0.6391455</td><td>0</td><td>0</td><td>0</td><td>0</td><td>L4 PN 1  </td></tr>\n",
       "\t<tr><th scope=row>all_all_AAACGAAAGAAATGGG-1</th><td>all</td><td>10939</td><td>3947</td><td>2.9435963</td><td>0</td><td>0</td><td>0.9746623</td><td>Glutamatergic</td><td>0.3238412</td><td>L6 IT_1      </td><td>0.5946238</td><td>L6 IT</td><td>0.3238412</td><td>L6 IT_1</td><td>0.6065511</td><td>0</td><td>0</td><td>0</td><td>0</td><td>L4 PN 1  </td></tr>\n",
       "\t<tr><th scope=row>all_all_AAACGAAAGGAATTAC-1</th><td>all</td><td>23627</td><td>5940</td><td>2.6918356</td><td>0</td><td>0</td><td>1.0000000</td><td>GABAergic    </td><td>0.3882493</td><td>Sst Hpse     </td><td>1.0000000</td><td>Sst  </td><td>0.5875499</td><td>Sst_3  </td><td>0.9826892</td><td>6</td><td>8</td><td>6</td><td>8</td><td>IN 2     </td></tr>\n",
       "\t<tr><th scope=row>all_all_AAACGAAGTCGTCATA-1</th><td>all</td><td>12540</td><td>4226</td><td>2.2328549</td><td>0</td><td>0</td><td>0.9834766</td><td>Glutamatergic</td><td>0.8616161</td><td>L5 IT Rspo1_1</td><td>0.8616161</td><td>L5 IT</td><td>0.8616161</td><td>L5 IT_1</td><td>0.7391329</td><td>0</td><td>0</td><td>0</td><td>0</td><td>L4 PN 1  </td></tr>\n",
       "\t<tr><th scope=row>all_all_AAACGAATCGTGGAAG-1</th><td>all</td><td> 5026</td><td>2376</td><td>2.2284123</td><td>0</td><td>0</td><td>0.5907302</td><td>GABAergic    </td><td>0.4957648</td><td>Meis2_Top2a  </td><td>0.5907302</td><td>Meis2</td><td>0.7218903</td><td>exclude</td><td>0.8242112</td><td>3</td><td>4</td><td>3</td><td>4</td><td>L2_3 PN 1</td></tr>\n",
       "</tbody>\n",
       "</table>\n"
      ],
      "text/latex": [
       "A data.frame: 6 × 20\n",
       "\\begin{tabular}{r|llllllllllllllllllll}\n",
       "  & orig.ident & nCount\\_RNA & nFeature\\_RNA & percent.mt & nCount\\_ADT & nFeature\\_ADT & predicted.class.score & predicted.class & predicted.cluster.score & predicted.cluster & predicted.subclass.score & predicted.subclass & predicted.cross\\_species\\_cluster.score & predicted.cross\\_species\\_cluster & mapping.score & unintegrated\\_clusters & seurat\\_clusters & RNA\\_snn\\_res.0.2 & RNA\\_snn\\_res.0.3 & celltype231225\\\\\n",
       "  & <chr> & <dbl> & <int> & <dbl> & <dbl> & <int> & <dbl> & <chr> & <dbl> & <chr> & <dbl> & <chr> & <dbl> & <chr> & <dbl> & <fct> & <fct> & <fct> & <fct> & <fct>\\\\\n",
       "\\hline\n",
       "\tall\\_all\\_AAACCCAAGGCGTCCT-1 & all & 18153 & 5343 & 0.4682422 & 0 & 0 & 0.9961201 & GABAergic     & 0.5546434 & Meis2         & 0.6250212 & Meis2 & 0.6250212 & exclude & 0.7343192 & 5 & 7 & 5 & 7 & IN 1     \\\\\n",
       "\tall\\_all\\_AAACCCACAAATGCGG-1 & all & 10326 & 3617 & 2.0821228 & 1 & 1 & 0.9522385 & Glutamatergic & 0.2832151 & L5 IT Rspo1\\_1 & 0.4328459 & L6 IT & 0.2899276 & L5 IT\\_1 & 0.6391455 & 0 & 0 & 0 & 0 & L4 PN 1  \\\\\n",
       "\tall\\_all\\_AAACGAAAGAAATGGG-1 & all & 10939 & 3947 & 2.9435963 & 0 & 0 & 0.9746623 & Glutamatergic & 0.3238412 & L6 IT\\_1       & 0.5946238 & L6 IT & 0.3238412 & L6 IT\\_1 & 0.6065511 & 0 & 0 & 0 & 0 & L4 PN 1  \\\\\n",
       "\tall\\_all\\_AAACGAAAGGAATTAC-1 & all & 23627 & 5940 & 2.6918356 & 0 & 0 & 1.0000000 & GABAergic     & 0.3882493 & Sst Hpse      & 1.0000000 & Sst   & 0.5875499 & Sst\\_3   & 0.9826892 & 6 & 8 & 6 & 8 & IN 2     \\\\\n",
       "\tall\\_all\\_AAACGAAGTCGTCATA-1 & all & 12540 & 4226 & 2.2328549 & 0 & 0 & 0.9834766 & Glutamatergic & 0.8616161 & L5 IT Rspo1\\_1 & 0.8616161 & L5 IT & 0.8616161 & L5 IT\\_1 & 0.7391329 & 0 & 0 & 0 & 0 & L4 PN 1  \\\\\n",
       "\tall\\_all\\_AAACGAATCGTGGAAG-1 & all &  5026 & 2376 & 2.2284123 & 0 & 0 & 0.5907302 & GABAergic     & 0.4957648 & Meis2\\_Top2a   & 0.5907302 & Meis2 & 0.7218903 & exclude & 0.8242112 & 3 & 4 & 3 & 4 & L2\\_3 PN 1\\\\\n",
       "\\end{tabular}\n"
      ],
      "text/markdown": [
       "\n",
       "A data.frame: 6 × 20\n",
       "\n",
       "| <!--/--> | orig.ident &lt;chr&gt; | nCount_RNA &lt;dbl&gt; | nFeature_RNA &lt;int&gt; | percent.mt &lt;dbl&gt; | nCount_ADT &lt;dbl&gt; | nFeature_ADT &lt;int&gt; | predicted.class.score &lt;dbl&gt; | predicted.class &lt;chr&gt; | predicted.cluster.score &lt;dbl&gt; | predicted.cluster &lt;chr&gt; | predicted.subclass.score &lt;dbl&gt; | predicted.subclass &lt;chr&gt; | predicted.cross_species_cluster.score &lt;dbl&gt; | predicted.cross_species_cluster &lt;chr&gt; | mapping.score &lt;dbl&gt; | unintegrated_clusters &lt;fct&gt; | seurat_clusters &lt;fct&gt; | RNA_snn_res.0.2 &lt;fct&gt; | RNA_snn_res.0.3 &lt;fct&gt; | celltype231225 &lt;fct&gt; |\n",
       "|---|---|---|---|---|---|---|---|---|---|---|---|---|---|---|---|---|---|---|---|---|\n",
       "| all_all_AAACCCAAGGCGTCCT-1 | all | 18153 | 5343 | 0.4682422 | 0 | 0 | 0.9961201 | GABAergic     | 0.5546434 | Meis2         | 0.6250212 | Meis2 | 0.6250212 | exclude | 0.7343192 | 5 | 7 | 5 | 7 | IN 1      |\n",
       "| all_all_AAACCCACAAATGCGG-1 | all | 10326 | 3617 | 2.0821228 | 1 | 1 | 0.9522385 | Glutamatergic | 0.2832151 | L5 IT Rspo1_1 | 0.4328459 | L6 IT | 0.2899276 | L5 IT_1 | 0.6391455 | 0 | 0 | 0 | 0 | L4 PN 1   |\n",
       "| all_all_AAACGAAAGAAATGGG-1 | all | 10939 | 3947 | 2.9435963 | 0 | 0 | 0.9746623 | Glutamatergic | 0.3238412 | L6 IT_1       | 0.5946238 | L6 IT | 0.3238412 | L6 IT_1 | 0.6065511 | 0 | 0 | 0 | 0 | L4 PN 1   |\n",
       "| all_all_AAACGAAAGGAATTAC-1 | all | 23627 | 5940 | 2.6918356 | 0 | 0 | 1.0000000 | GABAergic     | 0.3882493 | Sst Hpse      | 1.0000000 | Sst   | 0.5875499 | Sst_3   | 0.9826892 | 6 | 8 | 6 | 8 | IN 2      |\n",
       "| all_all_AAACGAAGTCGTCATA-1 | all | 12540 | 4226 | 2.2328549 | 0 | 0 | 0.9834766 | Glutamatergic | 0.8616161 | L5 IT Rspo1_1 | 0.8616161 | L5 IT | 0.8616161 | L5 IT_1 | 0.7391329 | 0 | 0 | 0 | 0 | L4 PN 1   |\n",
       "| all_all_AAACGAATCGTGGAAG-1 | all |  5026 | 2376 | 2.2284123 | 0 | 0 | 0.5907302 | GABAergic     | 0.4957648 | Meis2_Top2a   | 0.5907302 | Meis2 | 0.7218903 | exclude | 0.8242112 | 3 | 4 | 3 | 4 | L2_3 PN 1 |\n",
       "\n"
      ],
      "text/plain": [
       "                           orig.ident nCount_RNA nFeature_RNA percent.mt\n",
       "all_all_AAACCCAAGGCGTCCT-1 all        18153      5343         0.4682422 \n",
       "all_all_AAACCCACAAATGCGG-1 all        10326      3617         2.0821228 \n",
       "all_all_AAACGAAAGAAATGGG-1 all        10939      3947         2.9435963 \n",
       "all_all_AAACGAAAGGAATTAC-1 all        23627      5940         2.6918356 \n",
       "all_all_AAACGAAGTCGTCATA-1 all        12540      4226         2.2328549 \n",
       "all_all_AAACGAATCGTGGAAG-1 all         5026      2376         2.2284123 \n",
       "                           nCount_ADT nFeature_ADT predicted.class.score\n",
       "all_all_AAACCCAAGGCGTCCT-1 0          0            0.9961201            \n",
       "all_all_AAACCCACAAATGCGG-1 1          1            0.9522385            \n",
       "all_all_AAACGAAAGAAATGGG-1 0          0            0.9746623            \n",
       "all_all_AAACGAAAGGAATTAC-1 0          0            1.0000000            \n",
       "all_all_AAACGAAGTCGTCATA-1 0          0            0.9834766            \n",
       "all_all_AAACGAATCGTGGAAG-1 0          0            0.5907302            \n",
       "                           predicted.class predicted.cluster.score\n",
       "all_all_AAACCCAAGGCGTCCT-1 GABAergic       0.5546434              \n",
       "all_all_AAACCCACAAATGCGG-1 Glutamatergic   0.2832151              \n",
       "all_all_AAACGAAAGAAATGGG-1 Glutamatergic   0.3238412              \n",
       "all_all_AAACGAAAGGAATTAC-1 GABAergic       0.3882493              \n",
       "all_all_AAACGAAGTCGTCATA-1 Glutamatergic   0.8616161              \n",
       "all_all_AAACGAATCGTGGAAG-1 GABAergic       0.4957648              \n",
       "                           predicted.cluster predicted.subclass.score\n",
       "all_all_AAACCCAAGGCGTCCT-1 Meis2             0.6250212               \n",
       "all_all_AAACCCACAAATGCGG-1 L5 IT Rspo1_1     0.4328459               \n",
       "all_all_AAACGAAAGAAATGGG-1 L6 IT_1           0.5946238               \n",
       "all_all_AAACGAAAGGAATTAC-1 Sst Hpse          1.0000000               \n",
       "all_all_AAACGAAGTCGTCATA-1 L5 IT Rspo1_1     0.8616161               \n",
       "all_all_AAACGAATCGTGGAAG-1 Meis2_Top2a       0.5907302               \n",
       "                           predicted.subclass\n",
       "all_all_AAACCCAAGGCGTCCT-1 Meis2             \n",
       "all_all_AAACCCACAAATGCGG-1 L6 IT             \n",
       "all_all_AAACGAAAGAAATGGG-1 L6 IT             \n",
       "all_all_AAACGAAAGGAATTAC-1 Sst               \n",
       "all_all_AAACGAAGTCGTCATA-1 L5 IT             \n",
       "all_all_AAACGAATCGTGGAAG-1 Meis2             \n",
       "                           predicted.cross_species_cluster.score\n",
       "all_all_AAACCCAAGGCGTCCT-1 0.6250212                            \n",
       "all_all_AAACCCACAAATGCGG-1 0.2899276                            \n",
       "all_all_AAACGAAAGAAATGGG-1 0.3238412                            \n",
       "all_all_AAACGAAAGGAATTAC-1 0.5875499                            \n",
       "all_all_AAACGAAGTCGTCATA-1 0.8616161                            \n",
       "all_all_AAACGAATCGTGGAAG-1 0.7218903                            \n",
       "                           predicted.cross_species_cluster mapping.score\n",
       "all_all_AAACCCAAGGCGTCCT-1 exclude                         0.7343192    \n",
       "all_all_AAACCCACAAATGCGG-1 L5 IT_1                         0.6391455    \n",
       "all_all_AAACGAAAGAAATGGG-1 L6 IT_1                         0.6065511    \n",
       "all_all_AAACGAAAGGAATTAC-1 Sst_3                           0.9826892    \n",
       "all_all_AAACGAAGTCGTCATA-1 L5 IT_1                         0.7391329    \n",
       "all_all_AAACGAATCGTGGAAG-1 exclude                         0.8242112    \n",
       "                           unintegrated_clusters seurat_clusters\n",
       "all_all_AAACCCAAGGCGTCCT-1 5                     7              \n",
       "all_all_AAACCCACAAATGCGG-1 0                     0              \n",
       "all_all_AAACGAAAGAAATGGG-1 0                     0              \n",
       "all_all_AAACGAAAGGAATTAC-1 6                     8              \n",
       "all_all_AAACGAAGTCGTCATA-1 0                     0              \n",
       "all_all_AAACGAATCGTGGAAG-1 3                     4              \n",
       "                           RNA_snn_res.0.2 RNA_snn_res.0.3 celltype231225\n",
       "all_all_AAACCCAAGGCGTCCT-1 5               7               IN 1          \n",
       "all_all_AAACCCACAAATGCGG-1 0               0               L4 PN 1       \n",
       "all_all_AAACGAAAGAAATGGG-1 0               0               L4 PN 1       \n",
       "all_all_AAACGAAAGGAATTAC-1 6               8               IN 2          \n",
       "all_all_AAACGAAGTCGTCATA-1 0               0               L4 PN 1       \n",
       "all_all_AAACGAATCGTGGAAG-1 3               4               L2_3 PN 1     "
      ]
     },
     "metadata": {},
     "output_type": "display_data"
    },
    {
     "name": "stdout",
     "output_type": "stream",
     "text": [
      " [1] \"orig.ident\"                           \n",
      " [2] \"nCount_RNA\"                           \n",
      " [3] \"nFeature_RNA\"                         \n",
      " [4] \"percent.mt\"                           \n",
      " [5] \"nCount_ADT\"                           \n",
      " [6] \"nFeature_ADT\"                         \n",
      " [7] \"predicted.class.score\"                \n",
      " [8] \"predicted.class\"                      \n",
      " [9] \"predicted.cluster.score\"              \n",
      "[10] \"predicted.cluster\"                    \n",
      "[11] \"predicted.subclass.score\"             \n",
      "[12] \"predicted.subclass\"                   \n",
      "[13] \"predicted.cross_species_cluster.score\"\n",
      "[14] \"predicted.cross_species_cluster\"      \n",
      "[15] \"mapping.score\"                        \n",
      "[16] \"unintegrated_clusters\"                \n",
      "[17] \"seurat_clusters\"                      \n",
      "[18] \"RNA_snn_res.0.2\"                      \n",
      "[19] \"RNA_snn_res.0.3\"                      \n",
      "[20] \"celltype231225\"                       \n"
     ]
    }
   ],
   "source": [
    "head(ctx@meta.data)\n",
    "print(colnames(ctx@meta.data))"
   ]
  },
  {
   "cell_type": "code",
   "execution_count": 66,
   "id": "10628363",
   "metadata": {},
   "outputs": [
    {
     "data": {
      "text/plain": [
       "\n",
       " all  GFP \n",
       "2444 3045 "
      ]
     },
     "metadata": {},
     "output_type": "display_data"
    }
   ],
   "source": [
    "table(ctx@meta.data$orig.ident)"
   ]
  },
  {
   "cell_type": "code",
   "execution_count": 72,
   "id": "ae3b8362",
   "metadata": {},
   "outputs": [
    {
     "data": {
      "text/plain": [
       "\n",
       "   0    1    2    3    4    5    6    7    8    9   10   11 \n",
       "1077  971  909  524  512  383  343  273  262  158   49   28 "
      ]
     },
     "metadata": {},
     "output_type": "display_data"
    }
   ],
   "source": [
    "table(ctx@meta.data$seurat_clusters)"
   ]
  },
  {
   "cell_type": "code",
   "execution_count": 70,
   "id": "ff8b5dcd",
   "metadata": {},
   "outputs": [
    {
     "data": {
      "text/plain": [
       "\n",
       "    Astro   L2/3 IT     L5 ET     L5 IT   L5/6 NP     L6 CT     L6 IT       L6b \n",
       "        7       208        74       823        40       427      2517        23 \n",
       "    Lamp5     Meis2     Pvalb       Sst Sst Chodl       Vip      VLMC \n",
       "       43      1081        91        51        29        74         1 "
      ]
     },
     "metadata": {},
     "output_type": "display_data"
    }
   ],
   "source": [
    "table(ctx@meta.data$predicted.subclass)"
   ]
  },
  {
   "cell_type": "code",
   "execution_count": 71,
   "id": "31bf347a",
   "metadata": {},
   "outputs": [
    {
     "data": {
      "text/plain": [
       "\n",
       "      IN 1       IN 2       IN 3  L2_3 PN 1  L2_3 PN 2    L4 PN 1    L4 PN 2 \n",
       "       273        262         28        512        383       1077        524 \n",
       "     L5 PN L6CT L6b 1    L6 IT 1    L6 IT 2   L6 L6b 2 \n",
       "        49        343        909        971        158 "
      ]
     },
     "metadata": {},
     "output_type": "display_data"
    }
   ],
   "source": [
    "table(ctx@meta.data$celltype231225)"
   ]
  },
  {
   "cell_type": "code",
   "execution_count": 79,
   "id": "20060f8b",
   "metadata": {},
   "outputs": [
    {
     "ename": "ERROR",
     "evalue": "Error in .subset2(x, i, exact = exact): subscript out of bounds\n",
     "output_type": "error",
     "traceback": [
      "Error in .subset2(x, i, exact = exact): subscript out of bounds\nTraceback:\n",
      "1. DimPlot(ctx, reduction = \"umap\", group.by = \"celltype231225\", \n .     pt.size = 2, label = TRUE, label.size = 2, raster = TRUE, \n .     raster.dpi = c(600, 600))",
      "2. lapply(X = group.by, FUN = function(x) {\n .     plot <- SingleDimPlot(data = data[, c(dims, x, split.by, \n .         shape.by)], dims = dims, col.by = x, cols = cols, pt.size = pt.size, \n .         shape.by = shape.by, order = order, label = FALSE, cells.highlight = cells.highlight, \n .         cols.highlight = cols.highlight, sizes.highlight = sizes.highlight, \n .         na.value = na.value, raster = raster, raster.dpi = raster.dpi)\n .     if (label) {\n .         plot <- LabelClusters(plot = plot, id = x, repel = repel, \n .             size = label.size, split.by = split.by, box = label.box, \n .             color = label.color)\n .     }\n .     if (!is.null(x = split.by)) {\n .         plot <- plot + FacetTheme() + facet_wrap(facets = vars(!!sym(x = split.by)), \n .             ncol = if (length(x = group.by) > 1 || is.null(x = ncol)) {\n .                 length(x = unique(x = data[, split.by]))\n .             }\n .             else {\n .                 ncol\n .             })\n .     }\n .     plot <- if (is.null(x = orig.groups)) {\n .         plot + labs(title = NULL)\n .     }\n .     else {\n .         plot + CenterTitle()\n .     }\n . })",
      "3. FUN(X[[i]], ...)",
      "4. LabelClusters(plot = plot, id = x, repel = repel, size = label.size, \n .     split.by = split.by, box = label.box, color = label.color)",
      "5. cbind(data, color = pb$data[[1]][[1]])",
      "6. cbind(deparse.level, ...)",
      "7. data.frame(..., check.names = FALSE)",
      "8. pb$data[[1]][[1]]",
      "9. `[[.data.frame`(pb$data[[1]], 1)"
     ]
    }
   ],
   "source": [
    "DimPlot(ctx, reduction = \"umap\", group.by = \"celltype231225\", \n",
    "        pt.size=2, \n",
    "        label = TRUE, \n",
    "        label.size = 2, \n",
    "        raster=TRUE, \n",
    "        raster.dpi=c(600,600))\n"
   ]
  },
  {
   "cell_type": "code",
   "execution_count": null,
   "id": "5663dd98",
   "metadata": {},
   "outputs": [],
   "source": []
  },
  {
   "cell_type": "code",
   "execution_count": null,
   "id": "f182c750",
   "metadata": {},
   "outputs": [],
   "source": []
  },
  {
   "cell_type": "code",
   "execution_count": null,
   "id": "b956e76a",
   "metadata": {},
   "outputs": [],
   "source": []
  }
 ],
 "metadata": {
  "kernelspec": {
   "display_name": "R",
   "language": "R",
   "name": "ir"
  },
  "language_info": {
   "codemirror_mode": "r",
   "file_extension": ".r",
   "mimetype": "text/x-r-source",
   "name": "R",
   "pygments_lexer": "r",
   "version": "4.2.0"
  }
 },
 "nbformat": 4,
 "nbformat_minor": 5
}
